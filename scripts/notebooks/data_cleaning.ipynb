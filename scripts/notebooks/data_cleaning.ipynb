{
 "cells": [
  {
   "cell_type": "code",
   "execution_count": 1,
   "metadata": {},
   "outputs": [],
   "source": [
    "# Import libraries\n",
    "import json\n",
    "import pandas as pd\n",
    "import gzip\n",
    "import math\n",
    "from datetime import datetime\n",
    "# To count frequency in lists\n",
    "import collections\n",
    "\n",
    "# Graphing\n",
    "import numpy as np\n",
    "import matplotlib.mlab as mlab\n",
    "import matplotlib.pyplot as plt\n",
    "\n",
    "# Doc2vec\n",
    "from gensim.models import doc2vec\n",
    "from collections import namedtuple\n",
    "from datetime import datetime\n",
    "import re\n",
    "import string\n",
    "from sklearn import utils\n",
    "from sklearn.model_selection import train_test_split\n",
    "#import cPickle as pickle\n",
    "\n",
    "# Hide warnings\n",
    "import warnings\n",
    "warnings.filterwarnings('ignore')\n",
    "# =================================================================================================="
   ]
  },
  {
   "cell_type": "code",
   "execution_count": 5,
   "metadata": {},
   "outputs": [],
   "source": [
    "# Read the vectors\n",
    "df = pd.read_csv('/Users/yujinglai/Dropbox/Eugenie/data/processed_julian_amazon_data/reviews_merged_with_similar_amazon_products.csv', index_col=0, low_memory=False)"
   ]
  },
  {
   "cell_type": "code",
   "execution_count": 6,
   "metadata": {},
   "outputs": [
    {
     "data": {
      "text/plain": [
       "(245789, 27)"
      ]
     },
     "execution_count": 6,
     "metadata": {},
     "output_type": "execute_result"
    }
   ],
   "source": [
    "df.shape"
   ]
  },
  {
   "cell_type": "code",
   "execution_count": 10,
   "metadata": {},
   "outputs": [
    {
     "data": {
      "text/plain": [
       "Index(['asin', 'verified', 'reviewText', 'overall', 'summary',\n",
       "       'unixReviewTime', 'reviewerName', 'reviewTime', 'vote', 'image',\n",
       "       'category', 'description', 'title', 'brand', 'rank', 'main_cat',\n",
       "       'price', 'amazon', 'sim1', 'sim2', 'sim3', 'sim4', 'sim5', 'sim6',\n",
       "       'sim7', 'sim8', 'sim9'],\n",
       "      dtype='object')"
      ]
     },
     "execution_count": 10,
     "metadata": {},
     "output_type": "execute_result"
    }
   ],
   "source": [
    "df.columns"
   ]
  },
  {
   "cell_type": "code",
   "execution_count": 25,
   "metadata": {},
   "outputs": [],
   "source": [
    "df = df[df['title'].map(str).map(len) < 1000]"
   ]
  },
  {
   "cell_type": "code",
   "execution_count": 13,
   "metadata": {},
   "outputs": [
    {
     "data": {
      "text/plain": [
       "0    HTC\n",
       "1    HTC\n",
       "2    HTC\n",
       "3    HTC\n",
       "4    HTC\n",
       "Name: brand, dtype: object"
      ]
     },
     "execution_count": 13,
     "metadata": {},
     "output_type": "execute_result"
    }
   ],
   "source": [
    "df['brand'].head()"
   ]
  },
  {
   "cell_type": "code",
   "execution_count": 24,
   "metadata": {},
   "outputs": [
    {
     "data": {
      "text/plain": [
       "1399    var aPageStart = (new Date()).getTime();\\nvar ...\n",
       "1400    var aPageStart = (new Date()).getTime();\\nvar ...\n",
       "1401    var aPageStart = (new Date()).getTime();\\nvar ...\n",
       "1402    var aPageStart = (new Date()).getTime();\\nvar ...\n",
       "1403    var aPageStart = (new Date()).getTime();\\nvar ...\n",
       "1404    var aPageStart = (new Date()).getTime();\\nvar ...\n",
       "1405    var aPageStart = (new Date()).getTime();\\nvar ...\n",
       "1406    var aPageStart = (new Date()).getTime();\\nvar ...\n",
       "1407    var aPageStart = (new Date()).getTime();\\nvar ...\n",
       "1408    var aPageStart = (new Date()).getTime();\\nvar ...\n",
       "1409    var aPageStart = (new Date()).getTime();\\nvar ...\n",
       "1410    var aPageStart = (new Date()).getTime();\\nvar ...\n",
       "1411    var aPageStart = (new Date()).getTime();\\nvar ...\n",
       "1412    var aPageStart = (new Date()).getTime();\\nvar ...\n",
       "1413    var aPageStart = (new Date()).getTime();\\nvar ...\n",
       "1414    var aPageStart = (new Date()).getTime();\\nvar ...\n",
       "1415    var aPageStart = (new Date()).getTime();\\nvar ...\n",
       "1416    var aPageStart = (new Date()).getTime();\\nvar ...\n",
       "1417    var aPageStart = (new Date()).getTime();\\nvar ...\n",
       "1418    var aPageStart = (new Date()).getTime();\\nvar ...\n",
       "1419    var aPageStart = (new Date()).getTime();\\nvar ...\n",
       "1420    var aPageStart = (new Date()).getTime();\\nvar ...\n",
       "1421    var aPageStart = (new Date()).getTime();\\nvar ...\n",
       "1422    var aPageStart = (new Date()).getTime();\\nvar ...\n",
       "1423    var aPageStart = (new Date()).getTime();\\nvar ...\n",
       "1424    var aPageStart = (new Date()).getTime();\\nvar ...\n",
       "1425    var aPageStart = (new Date()).getTime();\\nvar ...\n",
       "1426    var aPageStart = (new Date()).getTime();\\nvar ...\n",
       "1427    var aPageStart = (new Date()).getTime();\\nvar ...\n",
       "1428    var aPageStart = (new Date()).getTime();\\nvar ...\n",
       "                              ...                        \n",
       "2383    var aPageStart = (new Date()).getTime();\\nvar ...\n",
       "2384    var aPageStart = (new Date()).getTime();\\nvar ...\n",
       "2385    var aPageStart = (new Date()).getTime();\\nvar ...\n",
       "2386    var aPageStart = (new Date()).getTime();\\nvar ...\n",
       "2387    var aPageStart = (new Date()).getTime();\\nvar ...\n",
       "2388    var aPageStart = (new Date()).getTime();\\nvar ...\n",
       "2389    var aPageStart = (new Date()).getTime();\\nvar ...\n",
       "2390    var aPageStart = (new Date()).getTime();\\nvar ...\n",
       "2391    var aPageStart = (new Date()).getTime();\\nvar ...\n",
       "2392    var aPageStart = (new Date()).getTime();\\nvar ...\n",
       "2393    var aPageStart = (new Date()).getTime();\\nvar ...\n",
       "2394    var aPageStart = (new Date()).getTime();\\nvar ...\n",
       "2395    var aPageStart = (new Date()).getTime();\\nvar ...\n",
       "2396    var aPageStart = (new Date()).getTime();\\nvar ...\n",
       "2397    var aPageStart = (new Date()).getTime();\\nvar ...\n",
       "2398    var aPageStart = (new Date()).getTime();\\nvar ...\n",
       "2399    var aPageStart = (new Date()).getTime();\\nvar ...\n",
       "2400    var aPageStart = (new Date()).getTime();\\nvar ...\n",
       "2401    var aPageStart = (new Date()).getTime();\\nvar ...\n",
       "2402    var aPageStart = (new Date()).getTime();\\nvar ...\n",
       "2403    var aPageStart = (new Date()).getTime();\\nvar ...\n",
       "2404    var aPageStart = (new Date()).getTime();\\nvar ...\n",
       "2405    var aPageStart = (new Date()).getTime();\\nvar ...\n",
       "2406    var aPageStart = (new Date()).getTime();\\nvar ...\n",
       "2407    var aPageStart = (new Date()).getTime();\\nvar ...\n",
       "2408    var aPageStart = (new Date()).getTime();\\nvar ...\n",
       "2409    var aPageStart = (new Date()).getTime();\\nvar ...\n",
       "2410    var aPageStart = (new Date()).getTime();\\nvar ...\n",
       "2411    var aPageStart = (new Date()).getTime();\\nvar ...\n",
       "2412    var aPageStart = (new Date()).getTime();\\nvar ...\n",
       "Name: title, Length: 1014, dtype: object"
      ]
     },
     "execution_count": 24,
     "metadata": {},
     "output_type": "execute_result"
    }
   ],
   "source": [
    "col = 'title'\n",
    "df.loc[df[col].map(str).map(len) > 1000, col]"
   ]
  },
  {
   "cell_type": "code",
   "execution_count": null,
   "metadata": {},
   "outputs": [],
   "source": [
    "df.to_csv('reviews_merged_with_similar_amazon_products.csv')"
   ]
  }
 ],
 "metadata": {
  "kernelspec": {
   "display_name": "Python 3",
   "language": "python",
   "name": "python3"
  },
  "language_info": {
   "codemirror_mode": {
    "name": "ipython",
    "version": 3
   },
   "file_extension": ".py",
   "mimetype": "text/x-python",
   "name": "python",
   "nbconvert_exporter": "python",
   "pygments_lexer": "ipython3",
   "version": "3.6.5"
  }
 },
 "nbformat": 4,
 "nbformat_minor": 2
}
