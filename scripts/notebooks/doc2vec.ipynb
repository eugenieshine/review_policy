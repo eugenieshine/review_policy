{
 "cells": [
  {
   "cell_type": "code",
   "execution_count": 1,
   "metadata": {},
   "outputs": [],
   "source": [
    "# Import libraries\n",
    "import json\n",
    "import pandas as pd\n",
    "import gzip\n",
    "import math\n",
    "from datetime import datetime\n",
    "\n",
    "# Graphing\n",
    "import numpy as np\n",
    "import matplotlib.mlab as mlab\n",
    "import matplotlib.pyplot as plt\n",
    "\n",
    "# Doc2vec\n",
    "from gensim.models import doc2vec\n",
    "from collections import namedtuple\n",
    "from datetime import datetime\n",
    "import re\n",
    "import string\n",
    "from sklearn import utils\n",
    "from sklearn.model_selection import train_test_split\n",
    "#import cPickle as pickle\n",
    "\n",
    "# Hide warnings\n",
    "import warnings\n",
    "warnings.filterwarnings('ignore')\n",
    "# =================================================================================================="
   ]
  },
  {
   "cell_type": "code",
   "execution_count": 2,
   "metadata": {},
   "outputs": [],
   "source": [
    "# Load review data\n",
    "# This file contains reviews for all categories in Cell Phone Electronics within the one-year time frame\n",
    "reviews = pd.read_csv('/Users/yujinglai/Downloads/reviews_asin.csv')\n",
    "reviews.drop(reviews.columns[0], axis=1, inplace=True) # Drop index column\n",
    "\n",
    "def numImg(x): \n",
    "    if (type(x) is str):\n",
    "        return x.count(',')\n",
    "    return 0\n",
    "\n",
    "def numVote(x):\n",
    "    if (type(x) is str):\n",
    "        return float(int(x.replace(',', '')))\n",
    "    if (math.isnan(x)):\n",
    "        return 0\n",
    "    return x\n",
    "\n",
    "# Process reviews\n",
    "reviews['image'] = reviews['image'].apply(numImg) # Add image count\n",
    "reviews['vote'] = reviews['vote'].apply(numVote) # Add vote count\n",
    "reviews['reviewTime'] = reviews['reviewTime'].apply(lambda x: str(datetime.strptime(x, '%m %d, %Y').date()))\n"
   ]
  },
  {
   "cell_type": "code",
   "execution_count": 12,
   "metadata": {},
   "outputs": [],
   "source": [
    "# Remove asin with less than 10 reviews\n",
    "reviews['review_count'] = reviews.groupby('asin')['asin'].transform('count') # Count reviews/asin\n",
    "reviews = reviews.loc[reviews['review_count'] > 10]"
   ]
  },
  {
   "cell_type": "code",
   "execution_count": 14,
   "metadata": {},
   "outputs": [],
   "source": [
    "# Learning resources:\n",
    "# https://stackoverflow.com/questions/31321209/doc2vec-how-to-get-document-vectors\n",
    "# https://radimrehurek.com/gensim/models/doc2vec.html\n",
    "# https://towardsdatascience.com/multi-class-text-classification-with-doc2vec-logistic-regression-9da9947b43f4\n",
    "\n",
    "# ==================================================================================================\n",
    "\n",
    "# Load data from path \n",
    "#df = pd.read_csv('/Users/yujinglai/Documents/Reviews2019/data/doc2vec_7/arslan-reviews2.csv', low_memory=False)\n",
    "\n",
    "# Drop all columns except for item_id and text\n",
    "item_id = 'asin'\n",
    "text_col = 'reviewText'\n",
    "df = reviews[[item_id, text_col]]\n",
    "\n",
    "# Drop records with empty reviews\n",
    "df = df[pd.notnull(df[text_col])]"
   ]
  },
  {
   "cell_type": "code",
   "execution_count": 15,
   "metadata": {},
   "outputs": [
    {
     "name": "stdout",
     "output_type": "stream",
     "text": [
      "0:12:36.106752\n"
     ]
    }
   ],
   "source": [
    "# Clean text\n",
    "from bs4 import BeautifulSoup\n",
    "def cleanText(text):\n",
    "    soup = BeautifulSoup(text, \"lxml\")\n",
    "    text = soup.get_text() # Remove url\n",
    "    text = \"\".join([c for c in text if c not in string.punctuation]) # Remove punctuation\n",
    "    text = text.lower() # To lower case\n",
    "    return text\n",
    "\n",
    "startTime = datetime.now() # Time that script started running\n",
    "df[text_col] = df[text_col].apply(cleanText)\n",
    "print(datetime.now() - startTime) # Time it took script to run"
   ]
  },
  {
   "cell_type": "code",
   "execution_count": 9,
   "metadata": {},
   "outputs": [],
   "source": [
    "# ==================================================================================================\n",
    "def tokenize_text(texts, ids):\n",
    "    tokens = []\n",
    "    # Organize data (assign each review a tag 0 to i)\n",
    "    analyzedDocument = namedtuple('AnalyzedDocument', 'words tags')\n",
    "    for i, text in enumerate(texts):\n",
    "        words = text.split()\n",
    "        #tags = [ids[i]]\n",
    "        tags = [i]\n",
    "        tokens.append(analyzedDocument(words, tags))\n",
    "    return tokens"
   ]
  },
  {
   "cell_type": "code",
   "execution_count": null,
   "metadata": {},
   "outputs": [],
   "source": [
    "# Split training(7/10), test (3/10) dataset\n",
    "train, test = train_test_split(df, test_size=0.3, random_state=42)\n",
    "\n",
    "# Generate list of item ids and review texts \n",
    "ids = list(df[item_id])\n",
    "texts = list(df[text_col])\n",
    "train_ids = list(train[item_id])\n",
    "train_texts = list(train[text_col])\n",
    "test_ids = list(test[item_id])\n",
    "test_texts = list(test[text_col])\n",
    "\n",
    "# Tokenize texts\n",
    "train_corpus = tokenize_text(train_texts, train_ids)\n",
    "test_corpus = tokenize_text(test_texts, test_ids)"
   ]
  },
  {
   "cell_type": "code",
   "execution_count": 36,
   "metadata": {},
   "outputs": [
    {
     "name": "stdout",
     "output_type": "stream",
     "text": [
      "0:02:01.885357\n"
     ]
    }
   ],
   "source": [
    "# Train the model\n",
    "model = doc2vec.Doc2Vec(vector_size = 100, min_count=2, epochs=10)\n",
    "model.build_vocab(train_corpus)\n",
    "startTime = datetime.now() # Time that script started running\n",
    "model.train(train_corpus, total_examples = model.corpus_count, epochs = model.epochs)\n",
    "print(datetime.now() - startTime) # Time it took script to run"
   ]
  },
  {
   "cell_type": "code",
   "execution_count": 41,
   "metadata": {},
   "outputs": [
    {
     "name": "stdout",
     "output_type": "stream",
     "text": [
      "Test Document ([78893]): «great charger good compact size still works after it fell out of my pocket and got chewed up by the snow blower only plastic end caps broke would buy again very durable»\n",
      "\n",
      "SIMILAR/DISSIMILAR DOCS PER MODEL Doc2Vec(dm/m,d100,n5,w5,mc2,s0.001,t3):\n",
      "\n",
      "MOST (151169, 0.5517106056213379): «great»\n",
      "\n",
      "MEDIAN (55030, 0.22467494010925293): «much better products available i have blown through both screens 2 provided in package in a short period of time the feel of the glass is good and smooth cleaning it up from smudges and dirt and grime is easy i am not hard on my phone but found this protect broke at the slightest impact and the adherence to the glass of the phone was problematic as it did adhere around the edges well 1 star for the glass 1 for the low price i am buying a different manufacture next time»\n",
      "\n",
      "LEAST (46698, -0.303036630153656): «niceirno»\n",
      "\n"
     ]
    }
   ],
   "source": [
    "# Assessing the model\n",
    "import random\n",
    "# Pick a random document from the test corpus and infer a vector from the model\n",
    "doc_id = random.randint(0, len(test_corpus) - 1)\n",
    "inferred_vector = model.infer_vector(doc_words = test_corpus[doc_id].words)\n",
    "sims = model.docvecs.most_similar([inferred_vector], topn=len(model.docvecs))\n",
    "\n",
    "# Compare and print the most/median/least similar documents from the train corpus\n",
    "print('Test Document ({}): «{}»\\n'.format(test_corpus[doc_id][1], ' '.join(test_corpus[doc_id].words)))\n",
    "print(u'SIMILAR/DISSIMILAR DOCS PER MODEL %s:\\n' % model)\n",
    "for label, index in [('MOST', 0), ('MEDIAN', len(sims)//2), ('LEAST', len(sims) - 1)]:\n",
    "    print(u'%s %s: «%s»\\n' % (label, sims[index], ' '.join(train_corpus[sims[index][0]].words)))"
   ]
  },
  {
   "cell_type": "code",
   "execution_count": 16,
   "metadata": {},
   "outputs": [
    {
     "name": "stdout",
     "output_type": "stream",
     "text": [
      "0:15:56.777310\n"
     ]
    }
   ],
   "source": [
    "# ==================================================================================================\n",
    "ids = list(df[item_id])\n",
    "texts = list(df[text_col])\n",
    "\n",
    "# Input all reviews\n",
    "train_corpus = tokenize_text(texts, ids)\n",
    "\n",
    "# Train the model\n",
    "model = doc2vec.Doc2Vec(vector_size = 100, min_count=2)\n",
    "model.build_vocab(train_corpus)\n",
    "startTime = datetime.now() # Time that script started running\n",
    "model.train(train_corpus, total_examples = model.corpus_count, epochs = model.epochs)\n",
    "print(datetime.now() - startTime) # Time it took script to run"
   ]
  },
  {
   "cell_type": "code",
   "execution_count": 17,
   "metadata": {},
   "outputs": [
    {
     "name": "stdout",
     "output_type": "stream",
     "text": [
      "Test Document ([1052646]): «perfect for traveling i bought this power bank for a travel to japan during the trip i left the hotel early in the morning and returned late at night and had it on my backpack all the time charging my cellphone my camera a portable wifi device without the need to connect it to power for 23 days in a row it is a little heavy but it is worth it to have charge for all your devices whenever you need them another good thing is that it does not get hot when charging compared to other portable batteries i have owned due to its high capacity it takes some time to get charged so my recommendation is to plug it before going to sleep and check it as soon as you wake up»\n",
      "\n",
      "SIMILAR/DISSIMILAR DOCS PER MODEL Doc2Vec(dm/m,d100,n5,w5,mc2,s0.001,t3):\n",
      "\n",
      "MOST (1153695, 0.5802326202392578): «met all expectations for recharge applications cord is of good quality and easy to coil for storage i would recommend for purchase»\n",
      "\n",
      "MEDIAN (561456, 0.12627407908439636): «i ordered this for christmas for my mother and we live in michigan so it just getting nice to ride bikes so we went to put this on her bike and a piece is missing very upset what a waste of money because now we can not even use it»\n",
      "\n",
      "LEAST (1758998, -0.4137266278266907): «good armor but now my phone looks like samsung»\n",
      "\n"
     ]
    }
   ],
   "source": [
    "# Assessing the model\n",
    "import random\n",
    "# Pick a random document from the test corpus and infer a vector from the model\n",
    "doc_id = random.randint(0, len(train_corpus) - 1)\n",
    "inferred_vector = model.infer_vector(doc_words = train_corpus[doc_id].words)\n",
    "sims = model.docvecs.most_similar([inferred_vector], topn=len(model.docvecs))\n",
    "\n",
    "# Compare and print the most/median/least similar documents from the train corpus\n",
    "print('Test Document ({}): «{}»\\n'.format(train_corpus[doc_id].tags, ' '.join(train_corpus[doc_id].words)))\n",
    "print(u'SIMILAR/DISSIMILAR DOCS PER MODEL %s:\\n' % model)\n",
    "for label, index in [('MOST', 0), ('MEDIAN', len(sims)//2), ('LEAST', len(sims) - 1)]:\n",
    "    print(u'%s %s: «%s»\\n' % (label, sims[index], ' '.join(train_corpus[sims[index][0]].words)))"
   ]
  },
  {
   "cell_type": "code",
   "execution_count": 18,
   "metadata": {},
   "outputs": [],
   "source": [
    "# Create a dictionary with key value pair (Product ID : List of review vector values)\n",
    "final_dict = {}\n",
    "for i in range(len(ids)):\n",
    "    if ids[i] in final_dict:\n",
    "        final_dict[ids[i]].append(model.docvecs[i])\n",
    "    else:\n",
    "        new_list = []\n",
    "        new_list.append(model.docvecs[i])\n",
    "        final_dict[ids[i]] = new_list"
   ]
  },
  {
   "cell_type": "code",
   "execution_count": 19,
   "metadata": {},
   "outputs": [],
   "source": [
    "# Find mean of values and update dictionary to reflect new values \n",
    "for key in final_dict.keys():\n",
    "    current_list = final_dict[key]\n",
    "    vector_avg = sum(current_list)/len(current_list)\n",
    "    final_dict[key] = vector_avg"
   ]
  },
  {
   "cell_type": "code",
   "execution_count": 20,
   "metadata": {},
   "outputs": [],
   "source": [
    "# Write dictionary to Pandas dataframe\n",
    "vectors = pd.DataFrame.from_dict(final_dict, orient = 'index')\n",
    "#vectors.to_csv('julien_vectors.csv')"
   ]
  },
  {
   "cell_type": "code",
   "execution_count": 7,
   "metadata": {},
   "outputs": [
    {
     "data": {
      "text/html": [
       "<div>\n",
       "<style scoped>\n",
       "    .dataframe tbody tr th:only-of-type {\n",
       "        vertical-align: middle;\n",
       "    }\n",
       "\n",
       "    .dataframe tbody tr th {\n",
       "        vertical-align: top;\n",
       "    }\n",
       "\n",
       "    .dataframe thead th {\n",
       "        text-align: right;\n",
       "    }\n",
       "</style>\n",
       "<table border=\"1\" class=\"dataframe\">\n",
       "  <thead>\n",
       "    <tr style=\"text-align: right;\">\n",
       "      <th></th>\n",
       "      <th>0</th>\n",
       "      <th>1</th>\n",
       "      <th>2</th>\n",
       "      <th>3</th>\n",
       "      <th>4</th>\n",
       "      <th>5</th>\n",
       "      <th>6</th>\n",
       "      <th>7</th>\n",
       "      <th>8</th>\n",
       "      <th>9</th>\n",
       "      <th>...</th>\n",
       "      <th>90</th>\n",
       "      <th>91</th>\n",
       "      <th>92</th>\n",
       "      <th>93</th>\n",
       "      <th>94</th>\n",
       "      <th>95</th>\n",
       "      <th>96</th>\n",
       "      <th>97</th>\n",
       "      <th>98</th>\n",
       "      <th>99</th>\n",
       "    </tr>\n",
       "    <tr>\n",
       "      <th>Unnamed: 0</th>\n",
       "      <th></th>\n",
       "      <th></th>\n",
       "      <th></th>\n",
       "      <th></th>\n",
       "      <th></th>\n",
       "      <th></th>\n",
       "      <th></th>\n",
       "      <th></th>\n",
       "      <th></th>\n",
       "      <th></th>\n",
       "      <th></th>\n",
       "      <th></th>\n",
       "      <th></th>\n",
       "      <th></th>\n",
       "      <th></th>\n",
       "      <th></th>\n",
       "      <th></th>\n",
       "      <th></th>\n",
       "      <th></th>\n",
       "      <th></th>\n",
       "      <th></th>\n",
       "    </tr>\n",
       "  </thead>\n",
       "  <tbody>\n",
       "    <tr>\n",
       "      <th>8288878881</th>\n",
       "      <td>-0.001301</td>\n",
       "      <td>0.043438</td>\n",
       "      <td>-0.021425</td>\n",
       "      <td>0.022332</td>\n",
       "      <td>-0.018625</td>\n",
       "      <td>-0.019440</td>\n",
       "      <td>0.029104</td>\n",
       "      <td>-0.046165</td>\n",
       "      <td>-0.038056</td>\n",
       "      <td>0.018094</td>\n",
       "      <td>...</td>\n",
       "      <td>0.069609</td>\n",
       "      <td>0.034096</td>\n",
       "      <td>-0.021621</td>\n",
       "      <td>-0.021642</td>\n",
       "      <td>0.010608</td>\n",
       "      <td>-0.012038</td>\n",
       "      <td>-0.025346</td>\n",
       "      <td>-0.022125</td>\n",
       "      <td>0.044015</td>\n",
       "      <td>0.033138</td>\n",
       "    </tr>\n",
       "    <tr>\n",
       "      <th>9638762918</th>\n",
       "      <td>-0.000862</td>\n",
       "      <td>0.057537</td>\n",
       "      <td>-0.021205</td>\n",
       "      <td>0.055027</td>\n",
       "      <td>-0.041491</td>\n",
       "      <td>-0.035040</td>\n",
       "      <td>0.030459</td>\n",
       "      <td>-0.093126</td>\n",
       "      <td>-0.062656</td>\n",
       "      <td>0.022506</td>\n",
       "      <td>...</td>\n",
       "      <td>0.106453</td>\n",
       "      <td>0.048026</td>\n",
       "      <td>-0.027606</td>\n",
       "      <td>-0.028858</td>\n",
       "      <td>0.023098</td>\n",
       "      <td>0.010221</td>\n",
       "      <td>-0.020498</td>\n",
       "      <td>-0.055742</td>\n",
       "      <td>0.074432</td>\n",
       "      <td>0.030843</td>\n",
       "    </tr>\n",
       "    <tr>\n",
       "      <th>9638762632</th>\n",
       "      <td>0.014102</td>\n",
       "      <td>0.062637</td>\n",
       "      <td>-0.043580</td>\n",
       "      <td>0.059192</td>\n",
       "      <td>-0.041081</td>\n",
       "      <td>-0.044546</td>\n",
       "      <td>0.033389</td>\n",
       "      <td>-0.073598</td>\n",
       "      <td>-0.049230</td>\n",
       "      <td>-0.000484</td>\n",
       "      <td>...</td>\n",
       "      <td>0.114438</td>\n",
       "      <td>0.048697</td>\n",
       "      <td>-0.015071</td>\n",
       "      <td>-0.015552</td>\n",
       "      <td>0.019992</td>\n",
       "      <td>-0.009119</td>\n",
       "      <td>-0.023522</td>\n",
       "      <td>-0.066941</td>\n",
       "      <td>0.071139</td>\n",
       "      <td>0.032729</td>\n",
       "    </tr>\n",
       "    <tr>\n",
       "      <th>9678315173</th>\n",
       "      <td>-0.002911</td>\n",
       "      <td>0.052743</td>\n",
       "      <td>-0.023313</td>\n",
       "      <td>0.047230</td>\n",
       "      <td>-0.026158</td>\n",
       "      <td>-0.035186</td>\n",
       "      <td>0.023528</td>\n",
       "      <td>-0.072954</td>\n",
       "      <td>-0.057203</td>\n",
       "      <td>0.026606</td>\n",
       "      <td>...</td>\n",
       "      <td>0.103089</td>\n",
       "      <td>0.045490</td>\n",
       "      <td>-0.023857</td>\n",
       "      <td>-0.024685</td>\n",
       "      <td>0.019463</td>\n",
       "      <td>-0.002182</td>\n",
       "      <td>-0.019131</td>\n",
       "      <td>-0.049865</td>\n",
       "      <td>0.083714</td>\n",
       "      <td>0.045454</td>\n",
       "    </tr>\n",
       "    <tr>\n",
       "      <th>9713957334</th>\n",
       "      <td>-0.006684</td>\n",
       "      <td>0.058535</td>\n",
       "      <td>-0.013864</td>\n",
       "      <td>0.041131</td>\n",
       "      <td>-0.024932</td>\n",
       "      <td>-0.027182</td>\n",
       "      <td>0.028574</td>\n",
       "      <td>-0.063848</td>\n",
       "      <td>-0.034979</td>\n",
       "      <td>0.013868</td>\n",
       "      <td>...</td>\n",
       "      <td>0.089043</td>\n",
       "      <td>0.037169</td>\n",
       "      <td>-0.020594</td>\n",
       "      <td>-0.019888</td>\n",
       "      <td>0.008063</td>\n",
       "      <td>0.007780</td>\n",
       "      <td>-0.020687</td>\n",
       "      <td>-0.039803</td>\n",
       "      <td>0.069674</td>\n",
       "      <td>0.036748</td>\n",
       "    </tr>\n",
       "  </tbody>\n",
       "</table>\n",
       "<p>5 rows × 100 columns</p>\n",
       "</div>"
      ],
      "text/plain": [
       "                   0         1         2         3         4         5  \\\n",
       "Unnamed: 0                                                               \n",
       "8288878881 -0.001301  0.043438 -0.021425  0.022332 -0.018625 -0.019440   \n",
       "9638762918 -0.000862  0.057537 -0.021205  0.055027 -0.041491 -0.035040   \n",
       "9638762632  0.014102  0.062637 -0.043580  0.059192 -0.041081 -0.044546   \n",
       "9678315173 -0.002911  0.052743 -0.023313  0.047230 -0.026158 -0.035186   \n",
       "9713957334 -0.006684  0.058535 -0.013864  0.041131 -0.024932 -0.027182   \n",
       "\n",
       "                   6         7         8         9    ...           90  \\\n",
       "Unnamed: 0                                            ...                \n",
       "8288878881  0.029104 -0.046165 -0.038056  0.018094    ...     0.069609   \n",
       "9638762918  0.030459 -0.093126 -0.062656  0.022506    ...     0.106453   \n",
       "9638762632  0.033389 -0.073598 -0.049230 -0.000484    ...     0.114438   \n",
       "9678315173  0.023528 -0.072954 -0.057203  0.026606    ...     0.103089   \n",
       "9713957334  0.028574 -0.063848 -0.034979  0.013868    ...     0.089043   \n",
       "\n",
       "                  91        92        93        94        95        96  \\\n",
       "Unnamed: 0                                                               \n",
       "8288878881  0.034096 -0.021621 -0.021642  0.010608 -0.012038 -0.025346   \n",
       "9638762918  0.048026 -0.027606 -0.028858  0.023098  0.010221 -0.020498   \n",
       "9638762632  0.048697 -0.015071 -0.015552  0.019992 -0.009119 -0.023522   \n",
       "9678315173  0.045490 -0.023857 -0.024685  0.019463 -0.002182 -0.019131   \n",
       "9713957334  0.037169 -0.020594 -0.019888  0.008063  0.007780 -0.020687   \n",
       "\n",
       "                  97        98        99  \n",
       "Unnamed: 0                                \n",
       "8288878881 -0.022125  0.044015  0.033138  \n",
       "9638762918 -0.055742  0.074432  0.030843  \n",
       "9638762632 -0.066941  0.071139  0.032729  \n",
       "9678315173 -0.049865  0.083714  0.045454  \n",
       "9713957334 -0.039803  0.069674  0.036748  \n",
       "\n",
       "[5 rows x 100 columns]"
      ]
     },
     "execution_count": 7,
     "metadata": {},
     "output_type": "execute_result"
    }
   ],
   "source": [
    "vectors.head()"
   ]
  },
  {
   "cell_type": "code",
   "execution_count": 22,
   "metadata": {},
   "outputs": [],
   "source": [
    "# Generate cosine similarity matrix from vectors\n",
    "from sklearn.metrics.pairwise import cosine_similarity\n",
    "\n",
    "def make_sims(vectors):\n",
    "    sims = cosine_similarity(vectors)\n",
    "    sims = pd.DataFrame(sims)\n",
    "    sims.index = vectors.index\n",
    "    sims.columns = vectors.index\n",
    "    return sims"
   ]
  },
  {
   "cell_type": "code",
   "execution_count": null,
   "metadata": {},
   "outputs": [],
   "source": [
    "sims = make_sims(vectors)\n",
    "sims.head()"
   ]
  },
  {
   "cell_type": "code",
   "execution_count": null,
   "metadata": {},
   "outputs": [],
   "source": [
    "import numpy as np\n",
    "import seaborn as sns\n",
    "import matplotlib.pylab as plt"
   ]
  },
  {
   "cell_type": "code",
   "execution_count": null,
   "metadata": {},
   "outputs": [],
   "source": [
    "def plot_map(sims):\n",
    "    mask = np.zeros_like(sims, dtype=np.bool)\n",
    "    mask[np.triu_indices_from(mask)] = True\n",
    "    with sns.axes_style(\"white\"):\n",
    "        ax = sns.heatmap(sims, mask=mask, linewidth=0.5, square=True,  cmap=\"YlGnBu\")\n",
    "        plt.show()\n",
    "\n",
    "plot_map(sims.iloc[0:19,0:19])"
   ]
  },
  {
   "cell_type": "code",
   "execution_count": 52,
   "metadata": {},
   "outputs": [
    {
     "data": {
      "image/png": "[encoded data removed]",
      "text/plain": [
       "<Figure size 432x288 with 2 Axes>"
      ]
     },
     "metadata": {},
     "output_type": "display_data"
    }
   ],
   "source": [
    "vectors2 = pd.read_csv('/Users/yujinglai/Documents/Reviews2019/data/doc2vec_7/vector.csv', index_col=0, low_memory=False)\n",
    "sims2 = make_sims(vectors2)\n",
    "plot_map(sims2.iloc[0:19,0:19])"
   ]
  },
  {
   "cell_type": "code",
   "execution_count": 64,
   "metadata": {},
   "outputs": [],
   "source": [
    "reviews = []\n",
    "review = namedtuple('Review', 'tags asin vector')\n",
    "for i in range(len(ids)):\n",
    "    reviews.append(review(i, ids[i], model.docvecs[i]))"
   ]
  },
  {
   "cell_type": "code",
   "execution_count": 65,
   "metadata": {},
   "outputs": [],
   "source": [
    "df_reviews = pd.DataFrame(reviews, columns=['tag', 'asin', 'vector'])"
   ]
  },
  {
   "cell_type": "code",
   "execution_count": 66,
   "metadata": {},
   "outputs": [
    {
     "data": {
      "text/html": [
       "<div>\n",
       "<style scoped>\n",
       "    .dataframe tbody tr th:only-of-type {\n",
       "        vertical-align: middle;\n",
       "    }\n",
       "\n",
       "    .dataframe tbody tr th {\n",
       "        vertical-align: top;\n",
       "    }\n",
       "\n",
       "    .dataframe thead th {\n",
       "        text-align: right;\n",
       "    }\n",
       "</style>\n",
       "<table border=\"1\" class=\"dataframe\">\n",
       "  <thead>\n",
       "    <tr style=\"text-align: right;\">\n",
       "      <th></th>\n",
       "      <th>tag</th>\n",
       "      <th>asin</th>\n",
       "      <th>vector</th>\n",
       "    </tr>\n",
       "  </thead>\n",
       "  <tbody>\n",
       "    <tr>\n",
       "      <th>0</th>\n",
       "      <td>0</td>\n",
       "      <td>B00DYWC26G</td>\n",
       "      <td>[0.000984267, -0.08318225, -0.006825556, 0.031...</td>\n",
       "    </tr>\n",
       "    <tr>\n",
       "      <th>1</th>\n",
       "      <td>1</td>\n",
       "      <td>B00DYWC26G</td>\n",
       "      <td>[-0.00028309147, -0.14773747, 0.009544687, 0.0...</td>\n",
       "    </tr>\n",
       "    <tr>\n",
       "      <th>2</th>\n",
       "      <td>2</td>\n",
       "      <td>B00K4DTTLY</td>\n",
       "      <td>[-0.0735937, -0.12629165, -0.007716434, 0.0660...</td>\n",
       "    </tr>\n",
       "    <tr>\n",
       "      <th>3</th>\n",
       "      <td>3</td>\n",
       "      <td>B00SE9CM78</td>\n",
       "      <td>[-0.014608441, -0.06531299, -0.07525114, 0.072...</td>\n",
       "    </tr>\n",
       "    <tr>\n",
       "      <th>4</th>\n",
       "      <td>4</td>\n",
       "      <td>B00SQY0M1Y</td>\n",
       "      <td>[-0.08744975, -0.016986296, -0.19692673, 0.103...</td>\n",
       "    </tr>\n",
       "  </tbody>\n",
       "</table>\n",
       "</div>"
      ],
      "text/plain": [
       "   tag        asin                                             vector\n",
       "0    0  B00DYWC26G  [0.000984267, -0.08318225, -0.006825556, 0.031...\n",
       "1    1  B00DYWC26G  [-0.00028309147, -0.14773747, 0.009544687, 0.0...\n",
       "2    2  B00K4DTTLY  [-0.0735937, -0.12629165, -0.007716434, 0.0660...\n",
       "3    3  B00SE9CM78  [-0.014608441, -0.06531299, -0.07525114, 0.072...\n",
       "4    4  B00SQY0M1Y  [-0.08744975, -0.016986296, -0.19692673, 0.103..."
      ]
     },
     "execution_count": 66,
     "metadata": {},
     "output_type": "execute_result"
    }
   ],
   "source": [
    "df_reviews.head()"
   ]
  },
  {
   "cell_type": "code",
   "execution_count": null,
   "metadata": {},
   "outputs": [],
   "source": []
  }
 ],
 "metadata": {
  "kernelspec": {
   "display_name": "Python 3",
   "language": "python",
   "name": "python3"
  },
  "language_info": {
   "codemirror_mode": {
    "name": "ipython",
    "version": 3
   },
   "file_extension": ".py",
   "mimetype": "text/x-python",
   "name": "python",
   "nbconvert_exporter": "python",
   "pygments_lexer": "ipython3",
   "version": "3.6.5"
  }
 },
 "nbformat": 4,
 "nbformat_minor": 2
}
