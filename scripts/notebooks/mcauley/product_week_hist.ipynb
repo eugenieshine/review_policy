{
 "cells": [
  {
   "cell_type": "code",
   "execution_count": 49,
   "metadata": {},
   "outputs": [],
   "source": [
    "import pandas as pd\n",
    "import os\n",
    "import matplotlib.pyplot as plt\n",
    "import matplotlib.cm as cm\n",
    "import matplotlib\n",
    "import numpy as np"
   ]
  },
  {
   "cell_type": "markdown",
   "metadata": {},
   "source": [
    "Product level Amazon vs. non-Amazon for the before period: histogram on review counts, sentiment, image count, word count, helpfulness count"
   ]
  },
  {
   "cell_type": "code",
   "execution_count": 30,
   "metadata": {},
   "outputs": [],
   "source": [
    "folder_path = '/Users/yujinglai/Dropbox/Eugenie/data/processed_julian_amazon_data/'\n",
    "product_data_folder = 'product_data/'\n",
    "did_folder = 'did/'\n",
    "product_data_file = 'products_stats_top10_extend.csv'\n",
    "product_week_file = 'products_overall_mcauley_description_top10_extend.csv'"
   ]
  },
  {
   "cell_type": "code",
   "execution_count": 31,
   "metadata": {},
   "outputs": [],
   "source": [
    "folder = os.path.join(folder_path, product_data_folder)\n",
    "file = os.path.join(folder, product_data_file)\n",
    "stats = pd.read_csv(file, low_memory=False)"
   ]
  },
  {
   "cell_type": "code",
   "execution_count": 32,
   "metadata": {},
   "outputs": [],
   "source": [
    "folder = os.path.join(folder_path, did_folder)\n",
    "file = os.path.join(folder, product_week_file)\n",
    "data = pd.read_csv(file, low_memory=False)"
   ]
  },
  {
   "cell_type": "code",
   "execution_count": 12,
   "metadata": {},
   "outputs": [],
   "source": [
    "amazon = data[['asin','amazon']]\n",
    "stats = pd.merge(stats, amazon, on='asin')"
   ]
  },
  {
   "cell_type": "code",
   "execution_count": 33,
   "metadata": {},
   "outputs": [
    {
     "data": {
      "text/plain": [
       "Index(['overall', 'vote', 'verified', 'reviewTime', 'reviewerID', 'asin',\n",
       "       'word_count', 'sentiment', 'image', 'category', 'brand', 'price',\n",
       "       'main_cat', 'amazon', 'week', 'sim1', 'week_num', 'is_5_stars',\n",
       "       'total_review_count', 'avg_rating', 'avg_sentiment', 'avg_word_count',\n",
       "       'avg_vote', 'avg_image', 'weekly_vote_count', 'non_5_stars_avg_vote',\n",
       "       '5_stars_avg_vote', 'non_5_stars_reviews_count',\n",
       "       '5_stars_reviews_count'],\n",
       "      dtype='object')"
      ]
     },
     "execution_count": 33,
     "metadata": {},
     "output_type": "execute_result"
    }
   ],
   "source": [
    "data.columns"
   ]
  },
  {
   "cell_type": "code",
   "execution_count": 40,
   "metadata": {},
   "outputs": [],
   "source": [
    "cols = ['asin','category', 'brand', 'price', 'amazon', 'sim1',\n",
    "       'total_review_count', 'avg_rating', 'avg_sentiment', 'avg_word_count',\n",
    "       'avg_vote', 'avg_image', 'weekly_vote_count', 'non_5_stars_avg_vote',\n",
    "       '5_stars_avg_vote', 'non_5_stars_reviews_count',\n",
    "       '5_stars_reviews_count']"
   ]
  },
  {
   "cell_type": "code",
   "execution_count": 41,
   "metadata": {},
   "outputs": [],
   "source": [
    "data = data[cols].drop_duplicates()"
   ]
  },
  {
   "cell_type": "code",
   "execution_count": 42,
   "metadata": {},
   "outputs": [
    {
     "data": {
      "text/html": [
       "<div>\n",
       "<style scoped>\n",
       "    .dataframe tbody tr th:only-of-type {\n",
       "        vertical-align: middle;\n",
       "    }\n",
       "\n",
       "    .dataframe tbody tr th {\n",
       "        vertical-align: top;\n",
       "    }\n",
       "\n",
       "    .dataframe thead th {\n",
       "        text-align: right;\n",
       "    }\n",
       "</style>\n",
       "<table border=\"1\" class=\"dataframe\">\n",
       "  <thead>\n",
       "    <tr style=\"text-align: right;\">\n",
       "      <th></th>\n",
       "      <th>asin</th>\n",
       "      <th>category</th>\n",
       "      <th>brand</th>\n",
       "      <th>price</th>\n",
       "      <th>amazon</th>\n",
       "      <th>sim1</th>\n",
       "      <th>total_review_count</th>\n",
       "      <th>avg_rating</th>\n",
       "      <th>avg_sentiment</th>\n",
       "      <th>avg_word_count</th>\n",
       "      <th>avg_vote</th>\n",
       "      <th>avg_image</th>\n",
       "      <th>weekly_vote_count</th>\n",
       "      <th>non_5_stars_avg_vote</th>\n",
       "      <th>5_stars_avg_vote</th>\n",
       "      <th>non_5_stars_reviews_count</th>\n",
       "      <th>5_stars_reviews_count</th>\n",
       "    </tr>\n",
       "  </thead>\n",
       "  <tbody>\n",
       "    <tr>\n",
       "      <th>0</th>\n",
       "      <td>B001KVOSK6</td>\n",
       "      <td>Cell Phones &amp; Accessories</td>\n",
       "      <td>Maxell</td>\n",
       "      <td>4.09</td>\n",
       "      <td>0</td>\n",
       "      <td>B00NH12EHQ</td>\n",
       "      <td>24</td>\n",
       "      <td>4.250000</td>\n",
       "      <td>0.338583</td>\n",
       "      <td>42.083333</td>\n",
       "      <td>0.208333</td>\n",
       "      <td>0.0</td>\n",
       "      <td>0.208333</td>\n",
       "      <td>0.625000</td>\n",
       "      <td>0.0</td>\n",
       "      <td>8.0</td>\n",
       "      <td>16.0</td>\n",
       "    </tr>\n",
       "    <tr>\n",
       "      <th>24</th>\n",
       "      <td>B00511PS3C</td>\n",
       "      <td>Cell Phones &amp; Accessories</td>\n",
       "      <td>AmazonBasics</td>\n",
       "      <td>NaN</td>\n",
       "      <td>1</td>\n",
       "      <td>B00511PS3C</td>\n",
       "      <td>83</td>\n",
       "      <td>3.927711</td>\n",
       "      <td>0.329333</td>\n",
       "      <td>92.903614</td>\n",
       "      <td>0.024096</td>\n",
       "      <td>0.0</td>\n",
       "      <td>0.024096</td>\n",
       "      <td>0.052632</td>\n",
       "      <td>0.0</td>\n",
       "      <td>38.0</td>\n",
       "      <td>45.0</td>\n",
       "    </tr>\n",
       "    <tr>\n",
       "      <th>107</th>\n",
       "      <td>B009RQ1M5K</td>\n",
       "      <td>Cell Phones &amp; Accessories</td>\n",
       "      <td>Verizon</td>\n",
       "      <td>10.99</td>\n",
       "      <td>0</td>\n",
       "      <td>B00NH12EHQ</td>\n",
       "      <td>20</td>\n",
       "      <td>4.150000</td>\n",
       "      <td>0.406335</td>\n",
       "      <td>158.600000</td>\n",
       "      <td>0.000000</td>\n",
       "      <td>0.0</td>\n",
       "      <td>0.000000</td>\n",
       "      <td>0.000000</td>\n",
       "      <td>0.0</td>\n",
       "      <td>9.0</td>\n",
       "      <td>11.0</td>\n",
       "    </tr>\n",
       "    <tr>\n",
       "      <th>127</th>\n",
       "      <td>B00CHSEMR0</td>\n",
       "      <td>Cell Phones &amp; Accessories</td>\n",
       "      <td>EMPIRE</td>\n",
       "      <td>4.94</td>\n",
       "      <td>0</td>\n",
       "      <td>B00NH12EHQ</td>\n",
       "      <td>11</td>\n",
       "      <td>4.363636</td>\n",
       "      <td>0.543318</td>\n",
       "      <td>40.454545</td>\n",
       "      <td>0.000000</td>\n",
       "      <td>0.0</td>\n",
       "      <td>0.000000</td>\n",
       "      <td>0.000000</td>\n",
       "      <td>0.0</td>\n",
       "      <td>4.0</td>\n",
       "      <td>7.0</td>\n",
       "    </tr>\n",
       "    <tr>\n",
       "      <th>138</th>\n",
       "      <td>B00ERPMJZI</td>\n",
       "      <td>Cell Phones &amp; Accessories</td>\n",
       "      <td>VANDOT</td>\n",
       "      <td>NaN</td>\n",
       "      <td>0</td>\n",
       "      <td>B00NH12EHQ</td>\n",
       "      <td>11</td>\n",
       "      <td>3.000000</td>\n",
       "      <td>0.206400</td>\n",
       "      <td>125.545455</td>\n",
       "      <td>1.272727</td>\n",
       "      <td>0.0</td>\n",
       "      <td>1.272727</td>\n",
       "      <td>0.857143</td>\n",
       "      <td>2.0</td>\n",
       "      <td>7.0</td>\n",
       "      <td>4.0</td>\n",
       "    </tr>\n",
       "  </tbody>\n",
       "</table>\n",
       "</div>"
      ],
      "text/plain": [
       "           asin                   category         brand  price  amazon  \\\n",
       "0    B001KVOSK6  Cell Phones & Accessories        Maxell   4.09       0   \n",
       "24   B00511PS3C  Cell Phones & Accessories  AmazonBasics    NaN       1   \n",
       "107  B009RQ1M5K  Cell Phones & Accessories       Verizon  10.99       0   \n",
       "127  B00CHSEMR0  Cell Phones & Accessories        EMPIRE   4.94       0   \n",
       "138  B00ERPMJZI  Cell Phones & Accessories        VANDOT    NaN       0   \n",
       "\n",
       "           sim1  total_review_count  avg_rating  avg_sentiment  \\\n",
       "0    B00NH12EHQ                  24    4.250000       0.338583   \n",
       "24   B00511PS3C                  83    3.927711       0.329333   \n",
       "107  B00NH12EHQ                  20    4.150000       0.406335   \n",
       "127  B00NH12EHQ                  11    4.363636       0.543318   \n",
       "138  B00NH12EHQ                  11    3.000000       0.206400   \n",
       "\n",
       "     avg_word_count  avg_vote  avg_image  weekly_vote_count  \\\n",
       "0         42.083333  0.208333        0.0           0.208333   \n",
       "24        92.903614  0.024096        0.0           0.024096   \n",
       "107      158.600000  0.000000        0.0           0.000000   \n",
       "127       40.454545  0.000000        0.0           0.000000   \n",
       "138      125.545455  1.272727        0.0           1.272727   \n",
       "\n",
       "     non_5_stars_avg_vote  5_stars_avg_vote  non_5_stars_reviews_count  \\\n",
       "0                0.625000               0.0                        8.0   \n",
       "24               0.052632               0.0                       38.0   \n",
       "107              0.000000               0.0                        9.0   \n",
       "127              0.000000               0.0                        4.0   \n",
       "138              0.857143               2.0                        7.0   \n",
       "\n",
       "     5_stars_reviews_count  \n",
       "0                     16.0  \n",
       "24                    45.0  \n",
       "107                   11.0  \n",
       "127                    7.0  \n",
       "138                    4.0  "
      ]
     },
     "execution_count": 42,
     "metadata": {},
     "output_type": "execute_result"
    }
   ],
   "source": [
    "data.head()"
   ]
  },
  {
   "cell_type": "code",
   "execution_count": 69,
   "metadata": {},
   "outputs": [],
   "source": [
    "labels = ['Non-Amazon','Amazon']"
   ]
  },
  {
   "cell_type": "code",
   "execution_count": 70,
   "metadata": {},
   "outputs": [
    {
     "data": {
      "image/png": "[encoded data removed]",
      "text/plain": [
       "<Figure size 864x432 with 1 Axes>"
      ]
     },
     "metadata": {},
     "output_type": "display_data"
    }
   ],
   "source": [
    "plt.figure(figsize=(12,6))\n",
    "namazon = data[data['amazon'] == 0]['avg_rating'].to_numpy()\n",
    "amazon = data[data['amazon'] == 1]['avg_rating'].to_numpy()\n",
    "n, bins, patches = plt.hist([namazon, amazon], label=labels)\n",
    "plt.legend(loc='upper right')\n",
    "plt.show()"
   ]
  },
  {
   "cell_type": "code",
   "execution_count": 71,
   "metadata": {},
   "outputs": [
    {
     "data": {
      "image/png": "[encoded data removed]",
      "text/plain": [
       "<Figure size 432x288 with 1 Axes>"
      ]
     },
     "metadata": {},
     "output_type": "display_data"
    }
   ],
   "source": [
    "# Ignore warnings\n",
    "import warnings\n",
    "warnings.filterwarnings('ignore')\n",
    "whiskers, caps, boxes, medians, fliers, means = plt.boxplot([namazon, amazon])\n",
    "ax = plt.axes()\n",
    "l = ax.set_xticklabels(labels)"
   ]
  },
  {
   "cell_type": "code",
   "execution_count": 72,
   "metadata": {},
   "outputs": [
    {
     "data": {
      "image/png": "[encoded data removed]",
      "text/plain": [
       "<Figure size 864x432 with 1 Axes>"
      ]
     },
     "metadata": {},
     "output_type": "display_data"
    }
   ],
   "source": [
    "plt.figure(figsize=(12,6))\n",
    "namazon = data[data['amazon'] == 0]['avg_vote'].to_numpy()\n",
    "amazon = data[data['amazon'] == 1]['avg_vote'].to_numpy()\n",
    "n, bins, patches = plt.hist([namazon, amazon], label=labels)\n",
    "plt.legend(loc='upper right')\n",
    "plt.show()"
   ]
  },
  {
   "cell_type": "code",
   "execution_count": 73,
   "metadata": {},
   "outputs": [],
   "source": [
    "data.to_csv(file, index=None)"
   ]
  },
  {
   "cell_type": "code",
   "execution_count": 74,
   "metadata": {},
   "outputs": [
    {
     "data": {
      "image/png": "[encoded data removed]",
      "text/plain": [
       "<Figure size 864x432 with 1 Axes>"
      ]
     },
     "metadata": {},
     "output_type": "display_data"
    }
   ],
   "source": [
    "plt.figure(figsize=(12,6))\n",
    "namazon = data[data['amazon'] == 0]['total_review_count'].to_numpy()\n",
    "amazon = data[data['amazon'] == 1]['total_review_count'].to_numpy()\n",
    "n, bins, patches = plt.hist([namazon, amazon], label=labels)\n",
    "plt.legend(loc='upper right')\n",
    "plt.show()"
   ]
  },
  {
   "cell_type": "code",
   "execution_count": null,
   "metadata": {},
   "outputs": [],
   "source": []
  }
 ],
 "metadata": {
  "kernelspec": {
   "display_name": "Python 3",
   "language": "python",
   "name": "python3"
  },
  "language_info": {
   "codemirror_mode": {
    "name": "ipython",
    "version": 3
   },
   "file_extension": ".py",
   "mimetype": "text/x-python",
   "name": "python",
   "nbconvert_exporter": "python",
   "pygments_lexer": "ipython3",
   "version": "3.6.5"
  }
 },
 "nbformat": 4,
 "nbformat_minor": 2
}
