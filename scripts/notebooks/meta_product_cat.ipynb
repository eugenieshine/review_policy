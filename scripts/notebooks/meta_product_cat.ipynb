{
 "cells": [
  {
   "cell_type": "code",
   "execution_count": 3,
   "metadata": {},
   "outputs": [],
   "source": [
    "import json\n",
    "import pandas as pd\n",
    "import gzip\n",
    "\n",
    "# To count frequency in lists\n",
    "import collections\n",
    "\n",
    "# For graphing\n",
    "import numpy as np\n",
    "import matplotlib.mlab as mlab\n",
    "import matplotlib.pyplot as plt"
   ]
  },
  {
   "cell_type": "code",
   "execution_count": 1,
   "metadata": {},
   "outputs": [
    {
     "data": {
      "text/html": [
       "<script>$(\"div.input\").hide()</script>"
      ],
      "text/plain": [
       "<IPython.core.display.HTML object>"
      ]
     },
     "metadata": {},
     "output_type": "display_data"
    },
    {
     "data": {
      "application/vnd.jupyter.widget-view+json": {
       "model_id": "4907f5f6c9db424aa8cfd92060411dc2",
       "version_major": 2,
       "version_minor": 0
      },
      "text/plain": [
       "ToggleButton(value=False, description='Show code')"
      ]
     },
     "metadata": {},
     "output_type": "display_data"
    },
    {
     "data": {
      "text/html": [
       "<script>$(\"div.input\").show()</script>"
      ],
      "text/plain": [
       "<IPython.core.display.HTML object>"
      ]
     },
     "metadata": {},
     "output_type": "display_data"
    },
    {
     "data": {
      "text/html": [
       "<script>$(\"div.input\").hide()</script>"
      ],
      "text/plain": [
       "<IPython.core.display.HTML object>"
      ]
     },
     "metadata": {},
     "output_type": "display_data"
    },
    {
     "data": {
      "text/html": [
       "<script>$(\"div.input\").show()</script>"
      ],
      "text/plain": [
       "<IPython.core.display.HTML object>"
      ]
     },
     "metadata": {},
     "output_type": "display_data"
    },
    {
     "data": {
      "text/html": [
       "<script>$(\"div.input\").hide()</script>"
      ],
      "text/plain": [
       "<IPython.core.display.HTML object>"
      ]
     },
     "metadata": {},
     "output_type": "display_data"
    },
    {
     "data": {
      "text/html": [
       "<script>$(\"div.input\").show()</script>"
      ],
      "text/plain": [
       "<IPython.core.display.HTML object>"
      ]
     },
     "metadata": {},
     "output_type": "display_data"
    }
   ],
   "source": [
    "# This is for showing or hiding code\n",
    "import ipywidgets as widgets\n",
    "from IPython.display import display, HTML\n",
    "\n",
    "javascript_functions = {False: \"hide()\", True: \"show()\"}\n",
    "button_descriptions  = {False: \"Show code\", True: \"Hide code\"}\n",
    "\n",
    "\n",
    "def toggle_code(state):\n",
    "\n",
    "    \"\"\"\n",
    "    Toggles the JavaScript show()/hide() function on the div.input element.\n",
    "    \"\"\"\n",
    "\n",
    "    output_string = \"<script>$(\\\"div.input\\\").{}</script>\"\n",
    "    output_args   = (javascript_functions[state],)\n",
    "    output        = output_string.format(*output_args)\n",
    "\n",
    "    display(HTML(output))\n",
    "\n",
    "\n",
    "def button_action(value):\n",
    "\n",
    "    \"\"\"\n",
    "    Calls the toggle_code function and updates the button description.\n",
    "    \"\"\"\n",
    "\n",
    "    state = value.new\n",
    "\n",
    "    toggle_code(state)\n",
    "\n",
    "    value.owner.description = button_descriptions[state]\n",
    "\n",
    "\n",
    "state = False\n",
    "toggle_code(state)\n",
    "\n",
    "button = widgets.ToggleButton(state, description = button_descriptions[state])\n",
    "button.observe(button_action, \"value\")\n",
    "\n",
    "display(button)"
   ]
  },
  {
   "cell_type": "code",
   "execution_count": 4,
   "metadata": {},
   "outputs": [],
   "source": [
    "def parse(path):\n",
    "  g = gzip.open(path, 'rb')\n",
    "  for l in g:\n",
    "    yield json.loads(l.decode('utf-8'))\n",
    "\n",
    "def getDF(path):\n",
    "  i = 0\n",
    "  df = {}\n",
    "  for d in parse(path):\n",
    "    df[i] = d\n",
    "    i += 1\n",
    "  return pd.DataFrame.from_dict(df, orient='index')\n",
    "\n",
    "# This file contains reviews for all categories in Cell Phone Electronics within the one-year time frame\n",
    "df = getDF('/Users/yujinglai/Dropbox/Eugenie/data/new_amazon_cell_phone_accessories/meta_Cell_Phones_and_Accessories.json.gz')"
   ]
  },
  {
   "cell_type": "code",
   "execution_count": 5,
   "metadata": {},
   "outputs": [],
   "source": [
    "# Drop irrelevant columns\n",
    "df.drop(['image', 'feature', 'also_buy', 'also_view', 'similar_item', 'date', 'details', 'tech1', 'tech2', 'fit'], axis=1, inplace=True)\n",
    "\n",
    "# Drop records with nan in category\n",
    "df = df.dropna(subset=['category'])"
   ]
  },
  {
   "cell_type": "code",
   "execution_count": 2,
   "metadata": {},
   "outputs": [],
   "source": [
    "#print(\"There are %d products\" % len(df.index))"
   ]
  },
  {
   "cell_type": "code",
   "execution_count": 10,
   "metadata": {},
   "outputs": [],
   "source": [
    "# All records have the same category labels\n",
    "#cats = []\n",
    "#df['category'].apply(lambda x: cats.extend(x))\n",
    "#print(\"There are %d unique subcategories\" % len(set(cats)))"
   ]
  },
  {
   "cell_type": "code",
   "execution_count": 9,
   "metadata": {},
   "outputs": [],
   "source": [
    "#print(\"There are %d subcategory appearances in total\" % len(cats))"
   ]
  },
  {
   "cell_type": "code",
   "execution_count": 8,
   "metadata": {},
   "outputs": [],
   "source": [
    "# All records have the same category labels\n",
    "df['main_cat'] = df['main_cat'].apply(str)\n",
    "main_cats = list(df['main_cat'])\n",
    "#print(\"There are %d unique main_cats\" % len(set(main_cats)))"
   ]
  },
  {
   "cell_type": "code",
   "execution_count": 27,
   "metadata": {},
   "outputs": [],
   "source": [
    "# Count the frequency of each subcategory in the list\n",
    "counter_main = collections.Counter(main_cats) # Ordered by freq\n",
    "counter_main = {k: v for k, v in reversed(sorted(counter_main.items(), key=lambda item: item[1]))}"
   ]
  },
  {
   "cell_type": "markdown",
   "metadata": {},
   "source": [
    "## Histograms of Subcategories of Cellphone & Electronics Products \n",
    "### Basic stats\n",
    "* There are 534651 products with at least one subcategory label\n",
    "* There are 4911 unique subcategories from **categories** column, which is a list of labels. It seems that it allows producers to create their own category labels so only ~30 labels are used by over 30 products. See histogram below\n",
    "* There are 1455752 subcategory appearances in total in **categories** column\n",
    "* There are 34 unique subcategories from **main_cats** column, which contains only one label"
   ]
  },
  {
   "cell_type": "markdown",
   "metadata": {},
   "source": [
    "### Head of the data frame"
   ]
  },
  {
   "cell_type": "code",
   "execution_count": 11,
   "metadata": {},
   "outputs": [
    {
     "data": {
      "text/html": [
       "<div>\n",
       "<style scoped>\n",
       "    .dataframe tbody tr th:only-of-type {\n",
       "        vertical-align: middle;\n",
       "    }\n",
       "\n",
       "    .dataframe tbody tr th {\n",
       "        vertical-align: top;\n",
       "    }\n",
       "\n",
       "    .dataframe thead th {\n",
       "        text-align: right;\n",
       "    }\n",
       "</style>\n",
       "<table border=\"1\" class=\"dataframe\">\n",
       "  <thead>\n",
       "    <tr style=\"text-align: right;\">\n",
       "      <th></th>\n",
       "      <th>category</th>\n",
       "      <th>description</th>\n",
       "      <th>title</th>\n",
       "      <th>brand</th>\n",
       "      <th>rank</th>\n",
       "      <th>main_cat</th>\n",
       "      <th>asin</th>\n",
       "      <th>price</th>\n",
       "    </tr>\n",
       "  </thead>\n",
       "  <tbody>\n",
       "    <tr>\n",
       "      <th>0</th>\n",
       "      <td>[Cell Phones &amp; Accessories, Accessories, Selfi...</td>\n",
       "      <td>[If you've searched monopod amazon, monopod ip...</td>\n",
       "      <td>90 Degree Twist-lock Extendable Pole for Photo...</td>\n",
       "      <td>Bonison</td>\n",
       "      <td>&gt;#2,181,607 in Cell Phones &amp; Accessories (See ...</td>\n",
       "      <td>Cell Phones &amp; Accessories</td>\n",
       "      <td>0220132968</td>\n",
       "      <td>NaN</td>\n",
       "    </tr>\n",
       "    <tr>\n",
       "      <th>1</th>\n",
       "      <td>[Cell Phones &amp; Accessories, Accessories, Scree...</td>\n",
       "      <td>NaN</td>\n",
       "      <td>Fairy Tales (Doodle Art)</td>\n",
       "      <td>Fitquipment</td>\n",
       "      <td>&gt;#7,432,623 in Cell Phones &amp; Accessories (See ...</td>\n",
       "      <td>Cell Phones &amp; Accessories</td>\n",
       "      <td>0843165685</td>\n",
       "      <td>NaN</td>\n",
       "    </tr>\n",
       "    <tr>\n",
       "      <th>2</th>\n",
       "      <td>[Cell Phones &amp; Accessories, Accessories, Scree...</td>\n",
       "      <td>[, Item:Half-Black Galaxy S9 PlusScratch termi...</td>\n",
       "      <td>[2-Pack] Galaxy S9 Plus Screen Protector,Cafet...</td>\n",
       "      <td>Cafetec</td>\n",
       "      <td>&gt;#2,969 in Cell Phones &amp; Accessories (See Top ...</td>\n",
       "      <td>Cell Phones &amp; Accessories</td>\n",
       "      <td>0857757652</td>\n",
       "      <td>$9.99</td>\n",
       "    </tr>\n",
       "    <tr>\n",
       "      <th>3</th>\n",
       "      <td>[Cell Phones &amp; Accessories, Accessories, Scree...</td>\n",
       "      <td>[, Item:Half-Black Galaxy S9 PlusScratch termi...</td>\n",
       "      <td>[2-Pack] Galaxy S9 Plus Screen Protector,Cafet...</td>\n",
       "      <td>Cafetec</td>\n",
       "      <td>&gt;#2,969 in Cell Phones &amp; Accessories (See Top ...</td>\n",
       "      <td>Cell Phones &amp; Accessories</td>\n",
       "      <td>0865815194</td>\n",
       "      <td>$9.99</td>\n",
       "    </tr>\n",
       "    <tr>\n",
       "      <th>4</th>\n",
       "      <td>[Cell Phones &amp; Accessories, Accessories, Car A...</td>\n",
       "      <td>[Volume I focuses on the center of the body in...</td>\n",
       "      <td>Get Stronger by Stretching with Thera Band Vol...</td>\n",
       "      <td>Noa Spector-Flock</td>\n",
       "      <td>920,439inMoviesTV(</td>\n",
       "      <td>Movies &amp; TV</td>\n",
       "      <td>087127244X</td>\n",
       "      <td>NaN</td>\n",
       "    </tr>\n",
       "  </tbody>\n",
       "</table>\n",
       "</div>"
      ],
      "text/plain": [
       "                                            category  \\\n",
       "0  [Cell Phones & Accessories, Accessories, Selfi...   \n",
       "1  [Cell Phones & Accessories, Accessories, Scree...   \n",
       "2  [Cell Phones & Accessories, Accessories, Scree...   \n",
       "3  [Cell Phones & Accessories, Accessories, Scree...   \n",
       "4  [Cell Phones & Accessories, Accessories, Car A...   \n",
       "\n",
       "                                         description  \\\n",
       "0  [If you've searched monopod amazon, monopod ip...   \n",
       "1                                                NaN   \n",
       "2  [, Item:Half-Black Galaxy S9 PlusScratch termi...   \n",
       "3  [, Item:Half-Black Galaxy S9 PlusScratch termi...   \n",
       "4  [Volume I focuses on the center of the body in...   \n",
       "\n",
       "                                               title              brand  \\\n",
       "0  90 Degree Twist-lock Extendable Pole for Photo...            Bonison   \n",
       "1                           Fairy Tales (Doodle Art)        Fitquipment   \n",
       "2  [2-Pack] Galaxy S9 Plus Screen Protector,Cafet...            Cafetec   \n",
       "3  [2-Pack] Galaxy S9 Plus Screen Protector,Cafet...            Cafetec   \n",
       "4  Get Stronger by Stretching with Thera Band Vol...  Noa Spector-Flock   \n",
       "\n",
       "                                                rank  \\\n",
       "0  >#2,181,607 in Cell Phones & Accessories (See ...   \n",
       "1  >#7,432,623 in Cell Phones & Accessories (See ...   \n",
       "2  >#2,969 in Cell Phones & Accessories (See Top ...   \n",
       "3  >#2,969 in Cell Phones & Accessories (See Top ...   \n",
       "4                                 920,439inMoviesTV(   \n",
       "\n",
       "                    main_cat        asin  price  \n",
       "0  Cell Phones & Accessories  0220132968    NaN  \n",
       "1  Cell Phones & Accessories  0843165685    NaN  \n",
       "2  Cell Phones & Accessories  0857757652  $9.99  \n",
       "3  Cell Phones & Accessories  0865815194  $9.99  \n",
       "4                Movies & TV  087127244X    NaN  "
      ]
     },
     "execution_count": 11,
     "metadata": {},
     "output_type": "execute_result"
    }
   ],
   "source": [
    "df.head()"
   ]
  },
  {
   "cell_type": "markdown",
   "metadata": {},
   "source": [
    "### Histogram and labels from main_cat column"
   ]
  },
  {
   "cell_type": "code",
   "execution_count": 37,
   "metadata": {},
   "outputs": [
    {
     "data": {
      "text/plain": [
       "Text(0,0.5,'Number of products')"
      ]
     },
     "execution_count": 37,
     "metadata": {},
     "output_type": "execute_result"
    },
    {
     "data": {
      "image/png": "[encoded data removed]",
      "text/plain": [
       "<Figure size 432x288 with 1 Axes>"
      ]
     },
     "metadata": {},
     "output_type": "display_data"
    }
   ],
   "source": [
    "plt.bar(counter_main.keys(), counter_main.values())\n",
    "plt.xticks(rotation=90)\n",
    "plt.xlabel(\"Subcategories from main_cat\")\n",
    "plt.ylabel(\"Number of products\")"
   ]
  },
  {
   "cell_type": "markdown",
   "metadata": {},
   "source": [
    "All subcategories in main_cat column. There're 34 in total."
   ]
  },
  {
   "cell_type": "code",
   "execution_count": 8,
   "metadata": {},
   "outputs": [
    {
     "data": {
      "text/plain": [
       "{'3D Printing',\n",
       " 'All Beauty',\n",
       " 'All Electronics',\n",
       " 'Amazon Devices',\n",
       " 'Amazon Fire TV',\n",
       " 'Amazon Home',\n",
       " 'Apple Products',\n",
       " 'Appliances',\n",
       " 'Appstore for Android',\n",
       " 'Arts, Crafts & Sewing',\n",
       " 'Automotive',\n",
       " 'Baby',\n",
       " 'Books',\n",
       " 'Camera & Photo',\n",
       " 'Car Electronics',\n",
       " 'Cell Phones & Accessories',\n",
       " 'Computers',\n",
       " 'Fire Phone',\n",
       " 'GPS & Navigation',\n",
       " 'Grocery',\n",
       " 'Health & Personal Care',\n",
       " 'Home Audio & Theater',\n",
       " 'Industrial & Scientific',\n",
       " 'Movies & TV',\n",
       " 'Musical Instruments',\n",
       " 'Office Products',\n",
       " 'Pet Supplies',\n",
       " 'Portable Audio & Accessories',\n",
       " 'Software',\n",
       " 'Sports & Outdoors',\n",
       " 'Tools & Home Improvement',\n",
       " 'Toys & Games',\n",
       " 'Video Games',\n",
       " 'nan'}"
      ]
     },
     "execution_count": 8,
     "metadata": {},
     "output_type": "execute_result"
    }
   ],
   "source": [
    "set(main_cats)"
   ]
  },
  {
   "cell_type": "markdown",
   "metadata": {},
   "source": [
    "### Histogram and labels from categories column\n",
    "Top 30 subcategories in categories column."
   ]
  },
  {
   "cell_type": "code",
   "execution_count": 11,
   "metadata": {},
   "outputs": [],
   "source": [
    "# Count the frequency of each subcategory in the list\n",
    "counter = collections.Counter(cats) # Ordered by freq"
   ]
  },
  {
   "cell_type": "code",
   "execution_count": 12,
   "metadata": {},
   "outputs": [
    {
     "data": {
      "text/plain": [
       "['Cell Phones & Accessories',\n",
       " 'Accessories',\n",
       " 'Selfie Sticks & Tripods',\n",
       " 'Screen Protectors',\n",
       " 'Car Accessories',\n",
       " 'Car Cradles & Mounts',\n",
       " 'Cables',\n",
       " 'Chargers & Power Adapters',\n",
       " 'Wall Chargers',\n",
       " 'Batteries & Battery Packs',\n",
       " 'Portable Power Banks',\n",
       " 'Accessory Kits',\n",
       " 'Cases, Holsters & Sleeves',\n",
       " 'Replacement Batteries',\n",
       " 'Virtual Reality Headsets',\n",
       " 'Basic Cases',\n",
       " 'Mounts & Stands',\n",
       " 'Stands',\n",
       " 'Car Chargers',\n",
       " 'Armbands',\n",
       " 'Holsters',\n",
       " 'Flip Cases',\n",
       " 'Cell Phones',\n",
       " 'Unlocked Cell Phones',\n",
       " 'Phone Charms',\n",
       " 'Car Kits',\n",
       " 'Battery Charger Cases',\n",
       " 'Solar Chargers',\n",
       " 'Replacement Parts']"
      ]
     },
     "execution_count": 12,
     "metadata": {},
     "output_type": "execute_result"
    }
   ],
   "source": [
    "# Get the top 30 subcategories\n",
    "tops = list(counter.keys())\n",
    "tops = tops[0:29]\n",
    "tops"
   ]
  },
  {
   "cell_type": "code",
   "execution_count": 19,
   "metadata": {},
   "outputs": [],
   "source": [
    "counter_tops = {k: counter[k] for k in tops}"
   ]
  },
  {
   "cell_type": "code",
   "execution_count": 25,
   "metadata": {},
   "outputs": [],
   "source": [
    "counter_tops = {k: v for k, v in reversed(sorted(counter_tops.items(), key=lambda item: item[1]))}"
   ]
  },
  {
   "cell_type": "code",
   "execution_count": 38,
   "metadata": {},
   "outputs": [
    {
     "data": {
      "text/plain": [
       "Text(0,0.5,'Number of products')"
      ]
     },
     "execution_count": 38,
     "metadata": {},
     "output_type": "execute_result"
    },
    {
     "data": {
      "image/png": "[encoded data removed]",
      "text/plain": [
       "<Figure size 432x288 with 1 Axes>"
      ]
     },
     "metadata": {},
     "output_type": "display_data"
    }
   ],
   "source": [
    "plt.bar(counter_tops.keys(), counter_tops.values(), color='g')\n",
    "plt.xticks(rotation='vertical')\n",
    "plt.xlabel(\"Subcategories from categories column\")\n",
    "plt.ylabel(\"Number of products\")"
   ]
  },
  {
   "cell_type": "code",
   "execution_count": null,
   "metadata": {},
   "outputs": [],
   "source": []
  }
 ],
 "metadata": {
  "kernelspec": {
   "display_name": "Python 3",
   "language": "python",
   "name": "python3"
  },
  "language_info": {
   "codemirror_mode": {
    "name": "ipython",
    "version": 3
   },
   "file_extension": ".py",
   "mimetype": "text/x-python",
   "name": "python",
   "nbconvert_exporter": "python",
   "pygments_lexer": "ipython3",
   "version": "3.6.5"
  }
 },
 "nbformat": 4,
 "nbformat_minor": 2
}
