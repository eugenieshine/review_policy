{
 "cells": [
  {
   "cell_type": "code",
   "execution_count": 2,
   "metadata": {},
   "outputs": [],
   "source": [
    "import json\n",
    "import pandas as pd\n",
    "import gzip\n",
    "import math\n",
    "from datetime import datetime\n",
    "\n",
    "# To count frequency in lists\n",
    "import collections\n",
    "\n",
    "# For graphing\n",
    "import numpy as np\n",
    "import matplotlib.mlab as mlab\n",
    "import matplotlib.pyplot as plt\n",
    "\n",
    "# Hide warnings\n",
    "import warnings\n",
    "warnings.filterwarnings('ignore')\n",
    "\n",
    "import spacy\n",
    "from spacy import displacy"
   ]
  },
  {
   "cell_type": "code",
   "execution_count": 37,
   "metadata": {},
   "outputs": [],
   "source": [
    "# Load data\n",
    "df = pd.read_csv('/Users/yujinglai/Dropbox/Eugenie/data/processed_julian_amazon_data/merged_review_lemma.csv', index_col=0, low_memory=False)"
   ]
  },
  {
   "cell_type": "code",
   "execution_count": 3,
   "metadata": {},
   "outputs": [
    {
     "data": {
      "text/plain": [
       "(244775, 2)"
      ]
     },
     "execution_count": 3,
     "metadata": {},
     "output_type": "execute_result"
    }
   ],
   "source": [
    "df.shape"
   ]
  },
  {
   "cell_type": "code",
   "execution_count": 4,
   "metadata": {},
   "outputs": [],
   "source": [
    "# Set up NLP\n",
    "nlp = spacy.load(\"en_core_web_sm\")"
   ]
  },
  {
   "cell_type": "code",
   "execution_count": 120,
   "metadata": {},
   "outputs": [
    {
     "name": "stdout",
     "output_type": "stream",
     "text": [
      "28\n"
     ]
    }
   ],
   "source": [
    "x = df.loc[df['reviewText'].str.contains(\"incentive\"), 'reviewText']\n",
    "print(len(list(x)))"
   ]
  },
  {
   "cell_type": "code",
   "execution_count": 5,
   "metadata": {},
   "outputs": [],
   "source": [
    "def getToken(doc):\n",
    "    for token in doc:\n",
    "        print(token.lemma_, token.dep_, token.head.text)"
   ]
  },
  {
   "cell_type": "code",
   "execution_count": 6,
   "metadata": {},
   "outputs": [
    {
     "name": "stdout",
     "output_type": "stream",
     "text": [
      "-PRON- nsubj received\n",
      "receive ROOT received\n",
      "no det incentives\n",
      "incentive dobj received\n"
     ]
    }
   ],
   "source": [
    "doc = nlp(\"I received no incentives\")\n",
    "getToken(doc)"
   ]
  },
  {
   "cell_type": "code",
   "execution_count": 7,
   "metadata": {},
   "outputs": [
    {
     "data": {
      "text/html": [
       "<div>\n",
       "<style scoped>\n",
       "    .dataframe tbody tr th:only-of-type {\n",
       "        vertical-align: middle;\n",
       "    }\n",
       "\n",
       "    .dataframe tbody tr th {\n",
       "        vertical-align: top;\n",
       "    }\n",
       "\n",
       "    .dataframe thead th {\n",
       "        text-align: right;\n",
       "    }\n",
       "</style>\n",
       "<table border=\"1\" class=\"dataframe\">\n",
       "  <thead>\n",
       "    <tr style=\"text-align: right;\">\n",
       "      <th></th>\n",
       "      <th>reviewText</th>\n",
       "      <th>lemma</th>\n",
       "    </tr>\n",
       "  </thead>\n",
       "  <tbody>\n",
       "    <tr>\n",
       "      <th>0</th>\n",
       "      <td>I got the charger 2 weeks ago and one week lat...</td>\n",
       "      <td>-PRON- get the charger 2 week ago and one wee...</td>\n",
       "    </tr>\n",
       "    <tr>\n",
       "      <th>1</th>\n",
       "      <td>Not only does it take 20 minutes to charge a s...</td>\n",
       "      <td>not only do -PRON- take 20 minute to charge a...</td>\n",
       "    </tr>\n",
       "    <tr>\n",
       "      <th>2</th>\n",
       "      <td>This charger was great while it lasted. Howeve...</td>\n",
       "      <td>this charger be great while -PRON- last . how...</td>\n",
       "    </tr>\n",
       "    <tr>\n",
       "      <th>3</th>\n",
       "      <td>cable is too short</td>\n",
       "      <td>cable be too short</td>\n",
       "    </tr>\n",
       "    <tr>\n",
       "      <th>4</th>\n",
       "      <td>Metal piece came out.  I pushed it back in but...</td>\n",
       "      <td>metal piece come out .   -PRON- push -PRON- b...</td>\n",
       "    </tr>\n",
       "  </tbody>\n",
       "</table>\n",
       "</div>"
      ],
      "text/plain": [
       "                                          reviewText  \\\n",
       "0  I got the charger 2 weeks ago and one week lat...   \n",
       "1  Not only does it take 20 minutes to charge a s...   \n",
       "2  This charger was great while it lasted. Howeve...   \n",
       "3                                 cable is too short   \n",
       "4  Metal piece came out.  I pushed it back in but...   \n",
       "\n",
       "                                               lemma  \n",
       "0   -PRON- get the charger 2 week ago and one wee...  \n",
       "1   not only do -PRON- take 20 minute to charge a...  \n",
       "2   this charger be great while -PRON- last . how...  \n",
       "3                                 cable be too short  \n",
       "4   metal piece come out .   -PRON- push -PRON- b...  "
      ]
     },
     "execution_count": 7,
     "metadata": {},
     "output_type": "execute_result"
    }
   ],
   "source": [
    "df.head()"
   ]
  },
  {
   "cell_type": "code",
   "execution_count": 40,
   "metadata": {},
   "outputs": [],
   "source": [
    "##### PLAN #####\n",
    "# 1. Get lemma\n",
    "# 2. Identify reviews with incentive termination strings\n",
    "# 3. Find negation \n",
    "# 4. Compare the positive and negative reviews"
   ]
  },
  {
   "cell_type": "code",
   "execution_count": 38,
   "metadata": {},
   "outputs": [],
   "source": [
    "# 2. Identify reviews with incentive termination strings\n",
    "incentivized_flags = ['incentivize', 'incentive', 'discount', 'affiliate', 'promote', 'promotion', 'sponsor', 'sponsorship', 'discount']\n",
    "reviews = df.loc[df['lemma'].apply(lambda x: any([k in x for k in incentivized_flags]))]"
   ]
  },
  {
   "cell_type": "code",
   "execution_count": 9,
   "metadata": {},
   "outputs": [
    {
     "data": {
      "text/html": [
       "<div>\n",
       "<style scoped>\n",
       "    .dataframe tbody tr th:only-of-type {\n",
       "        vertical-align: middle;\n",
       "    }\n",
       "\n",
       "    .dataframe tbody tr th {\n",
       "        vertical-align: top;\n",
       "    }\n",
       "\n",
       "    .dataframe thead th {\n",
       "        text-align: right;\n",
       "    }\n",
       "</style>\n",
       "<table border=\"1\" class=\"dataframe\">\n",
       "  <thead>\n",
       "    <tr style=\"text-align: right;\">\n",
       "      <th></th>\n",
       "      <th>reviewText</th>\n",
       "      <th>lemma</th>\n",
       "    </tr>\n",
       "  </thead>\n",
       "  <tbody>\n",
       "    <tr>\n",
       "      <th>774</th>\n",
       "      <td>I've been using it in my car for 3 months and ...</td>\n",
       "      <td>-PRON- have be use -PRON- in -PRON- car for 3...</td>\n",
       "    </tr>\n",
       "    <tr>\n",
       "      <th>825</th>\n",
       "      <td>I went to a discount store near my home to pur...</td>\n",
       "      <td>-PRON- go to a discount store near -PRON- hom...</td>\n",
       "    </tr>\n",
       "    <tr>\n",
       "      <th>1042</th>\n",
       "      <td>I received my 5-Port USB Wall Charger, EZOPowe...</td>\n",
       "      <td>-PRON- receive -PRON- 5-port usb Wall Charger...</td>\n",
       "    </tr>\n",
       "    <tr>\n",
       "      <th>1147</th>\n",
       "      <td>My Iphones have always said that this device i...</td>\n",
       "      <td>-PRON- iphone have always say that this devic...</td>\n",
       "    </tr>\n",
       "    <tr>\n",
       "      <th>1217</th>\n",
       "      <td>With me always carrying an Android device and ...</td>\n",
       "      <td>with -PRON- always carry an Android device an...</td>\n",
       "    </tr>\n",
       "  </tbody>\n",
       "</table>\n",
       "</div>"
      ],
      "text/plain": [
       "                                             reviewText  \\\n",
       "774   I've been using it in my car for 3 months and ...   \n",
       "825   I went to a discount store near my home to pur...   \n",
       "1042  I received my 5-Port USB Wall Charger, EZOPowe...   \n",
       "1147  My Iphones have always said that this device i...   \n",
       "1217  With me always carrying an Android device and ...   \n",
       "\n",
       "                                                  lemma  \n",
       "774    -PRON- have be use -PRON- in -PRON- car for 3...  \n",
       "825    -PRON- go to a discount store near -PRON- hom...  \n",
       "1042   -PRON- receive -PRON- 5-port usb Wall Charger...  \n",
       "1147   -PRON- iphone have always say that this devic...  \n",
       "1217   with -PRON- always carry an Android device an...  "
      ]
     },
     "execution_count": 9,
     "metadata": {},
     "output_type": "execute_result"
    }
   ],
   "source": [
    "reviews.head()"
   ]
  },
  {
   "cell_type": "code",
   "execution_count": 51,
   "metadata": {},
   "outputs": [
    {
     "data": {
      "text/html": [
       "<!DOCTYPE html>\n",
       "<html lang=\"en\">\n",
       "    <head>\n",
       "        <title>displaCy</title>\n",
       "    </head>\n",
       "\n",
       "    <body style=\"font-size: 16px; font-family: -apple-system, BlinkMacSystemFont, 'Segoe UI', Helvetica, Arial, sans-serif, 'Apple Color Emoji', 'Segoe UI Emoji', 'Segoe UI Symbol'; padding: 4rem 2rem; direction: ltr\">\n",
       "<figure style=\"margin-bottom: 6rem\">\n",
       "<svg xmlns=\"http://www.w3.org/2000/svg\" xmlns:xlink=\"http://www.w3.org/1999/xlink\" xml:lang=\"en\" id=\"9573d3ccfa46496eb2f877a7334e5440-0\" class=\"displacy\" width=\"750\" height=\"399.5\" direction=\"ltr\" style=\"max-width: none; height: 399.5px; color: #000000; background: #ffffff; font-family: Arial; direction: ltr\">\n",
       "<text class=\"displacy-token\" fill=\"currentColor\" text-anchor=\"middle\" y=\"309.5\">\n",
       "    <tspan class=\"displacy-word\" fill=\"currentColor\" x=\"50\">-PRON-</tspan>\n",
       "    <tspan class=\"displacy-tag\" dy=\"2em\" fill=\"currentColor\" x=\"50\">PUNCT</tspan>\n",
       "</text>\n",
       "\n",
       "<text class=\"displacy-token\" fill=\"currentColor\" text-anchor=\"middle\" y=\"309.5\">\n",
       "    <tspan class=\"displacy-word\" fill=\"currentColor\" x=\"225\">be</tspan>\n",
       "    <tspan class=\"displacy-tag\" dy=\"2em\" fill=\"currentColor\" x=\"225\">AUX</tspan>\n",
       "</text>\n",
       "\n",
       "<text class=\"displacy-token\" fill=\"currentColor\" text-anchor=\"middle\" y=\"309.5\">\n",
       "    <tspan class=\"displacy-word\" fill=\"currentColor\" x=\"400\">not</tspan>\n",
       "    <tspan class=\"displacy-tag\" dy=\"2em\" fill=\"currentColor\" x=\"400\">PART</tspan>\n",
       "</text>\n",
       "\n",
       "<text class=\"displacy-token\" fill=\"currentColor\" text-anchor=\"middle\" y=\"309.5\">\n",
       "    <tspan class=\"displacy-word\" fill=\"currentColor\" x=\"575\">incentivized.</tspan>\n",
       "    <tspan class=\"displacy-tag\" dy=\"2em\" fill=\"currentColor\" x=\"575\">VERB</tspan>\n",
       "</text>\n",
       "\n",
       "<g class=\"displacy-arrow\">\n",
       "    <path class=\"displacy-arc\" id=\"arrow-9573d3ccfa46496eb2f877a7334e5440-0-0\" stroke-width=\"2px\" d=\"M70,264.5 C70,2.0 575.0,2.0 575.0,264.5\" fill=\"none\" stroke=\"currentColor\"/>\n",
       "    <text dy=\"1.25em\" style=\"font-size: 0.8em; letter-spacing: 1px\">\n",
       "        <textPath xlink:href=\"#arrow-9573d3ccfa46496eb2f877a7334e5440-0-0\" class=\"displacy-label\" startOffset=\"50%\" side=\"left\" fill=\"currentColor\" text-anchor=\"middle\">punct</textPath>\n",
       "    </text>\n",
       "    <path class=\"displacy-arrowhead\" d=\"M70,266.5 L62,254.5 78,254.5\" fill=\"currentColor\"/>\n",
       "</g>\n",
       "\n",
       "<g class=\"displacy-arrow\">\n",
       "    <path class=\"displacy-arc\" id=\"arrow-9573d3ccfa46496eb2f877a7334e5440-0-1\" stroke-width=\"2px\" d=\"M245,264.5 C245,89.5 570.0,89.5 570.0,264.5\" fill=\"none\" stroke=\"currentColor\"/>\n",
       "    <text dy=\"1.25em\" style=\"font-size: 0.8em; letter-spacing: 1px\">\n",
       "        <textPath xlink:href=\"#arrow-9573d3ccfa46496eb2f877a7334e5440-0-1\" class=\"displacy-label\" startOffset=\"50%\" side=\"left\" fill=\"currentColor\" text-anchor=\"middle\">auxpass</textPath>\n",
       "    </text>\n",
       "    <path class=\"displacy-arrowhead\" d=\"M245,266.5 L237,254.5 253,254.5\" fill=\"currentColor\"/>\n",
       "</g>\n",
       "\n",
       "<g class=\"displacy-arrow\">\n",
       "    <path class=\"displacy-arc\" id=\"arrow-9573d3ccfa46496eb2f877a7334e5440-0-2\" stroke-width=\"2px\" d=\"M420,264.5 C420,177.0 565.0,177.0 565.0,264.5\" fill=\"none\" stroke=\"currentColor\"/>\n",
       "    <text dy=\"1.25em\" style=\"font-size: 0.8em; letter-spacing: 1px\">\n",
       "        <textPath xlink:href=\"#arrow-9573d3ccfa46496eb2f877a7334e5440-0-2\" class=\"displacy-label\" startOffset=\"50%\" side=\"left\" fill=\"currentColor\" text-anchor=\"middle\">neg</textPath>\n",
       "    </text>\n",
       "    <path class=\"displacy-arrowhead\" d=\"M420,266.5 L412,254.5 428,254.5\" fill=\"currentColor\"/>\n",
       "</g>\n",
       "</svg>\n",
       "</figure>\n",
       "</body>\n",
       "</html>"
      ],
      "text/plain": [
       "<IPython.core.display.HTML object>"
      ]
     },
     "metadata": {},
     "output_type": "display_data"
    },
    {
     "name": "stdout",
     "output_type": "stream",
     "text": [
      "\n",
      "Using the 'dep' visualizer\n",
      "Serving on http://0.0.0.0:5000 ...\n",
      "\n",
      "Shutting down server on port 5000.\n"
     ]
    }
   ],
   "source": [
    "# 3. Find negation \n",
    "# Construct a string array\n",
    "doc = nlp(\"-PRON- be not incentivized.\")\n",
    "displacy.serve(doc, style=\"dep\")"
   ]
  },
  {
   "cell_type": "code",
   "execution_count": 68,
   "metadata": {},
   "outputs": [],
   "source": [
    "negation_tokens = [tok for tok in doc if tok.text in ['no','not']]\n",
    "negation_head_tokens = [token.head.text for token in negation_tokens]"
   ]
  },
  {
   "cell_type": "code",
   "execution_count": 69,
   "metadata": {},
   "outputs": [
    {
     "data": {
      "text/plain": [
       "['incentivized']"
      ]
     },
     "execution_count": 69,
     "metadata": {},
     "output_type": "execute_result"
    }
   ],
   "source": [
    "negation_head_tokens"
   ]
  },
  {
   "cell_type": "code",
   "execution_count": 62,
   "metadata": {},
   "outputs": [
    {
     "name": "stdout",
     "output_type": "stream",
     "text": [
      "given\n",
      "This\n",
      "was\n",
      "not\n",
      "to\n",
      "or\n",
      "discounted\n",
      "anyway\n"
     ]
    }
   ],
   "source": [
    "doc = nlp(\"This was not given to me or discounted in anyway\")\n",
    "it_ancestors = doc[2].ancestors\n",
    "for i in it_ancestors:\n",
    "    print(i.text)\n",
    "    for j in i.children:\n",
    "        print(j.text)"
   ]
  },
  {
   "cell_type": "code",
   "execution_count": 82,
   "metadata": {},
   "outputs": [
    {
     "name": "stdout",
     "output_type": "stream",
     "text": [
      "not\n"
     ]
    },
    {
     "data": {
      "text/plain": [
       "['or', 'not', 'discounted', 'to', 'anyway', 'was', 'given']"
      ]
     },
     "execution_count": 82,
     "metadata": {},
     "output_type": "execute_result"
    }
   ],
   "source": [
    "getNegation_head_tokens(\"This was not given to me or discounted in anyway\")"
   ]
  },
  {
   "cell_type": "code",
   "execution_count": 6,
   "metadata": {},
   "outputs": [],
   "source": [
    "def getNegation_head_tokens(x):\n",
    "    doc = nlp(x)\n",
    "    negation_tokens = [tok for tok in doc if tok.text in ['not','no']]\n",
    "    negation_head_tokens = [token.head.text for token in negation_tokens]\n",
    "    return negation_head_tokens"
   ]
  },
  {
   "cell_type": "code",
   "execution_count": 7,
   "metadata": {},
   "outputs": [],
   "source": [
    "def getNegation_tree(x):\n",
    "    doc = nlp(x)\n",
    "    negation_tokens = [tok for tok in doc if tok.text in ['not','no']]\n",
    "    negation_head_tokens = [token.head.text for token in negation_tokens]\n",
    "    negation_ancestors = []\n",
    "    for n in negation_tokens:\n",
    "        n_tokens = n.ancestors\n",
    "        # The first jump\n",
    "        for i in n_tokens:\n",
    "            negation_ancestors.append(i.text)\n",
    "            children = i.children\n",
    "            # The second jump\n",
    "            for j in children:\n",
    "                negation_ancestors.extend([t.text for t in children])\n",
    "    result = negation_ancestors + negation_head_tokens\n",
    "    if len(result) > 0:\n",
    "        return list(set(result))\n",
    "    return []"
   ]
  },
  {
   "cell_type": "code",
   "execution_count": 8,
   "metadata": {},
   "outputs": [],
   "source": [
    "def ifNegation_incentivized(x):\n",
    "    negation_head_tokens = getNegation_tree(x)\n",
    "    for i in negation_head_tokens:\n",
    "        if i in incentivized_flags:\n",
    "            return 1\n",
    "    return 0"
   ]
  },
  {
   "cell_type": "code",
   "execution_count": 39,
   "metadata": {},
   "outputs": [],
   "source": [
    "reviews['if_neg'] = reviews['lemma'].apply(ifNegation_incentivized)"
   ]
  },
  {
   "cell_type": "code",
   "execution_count": 42,
   "metadata": {},
   "outputs": [
    {
     "data": {
      "text/html": [
       "<div>\n",
       "<style scoped>\n",
       "    .dataframe tbody tr th:only-of-type {\n",
       "        vertical-align: middle;\n",
       "    }\n",
       "\n",
       "    .dataframe tbody tr th {\n",
       "        vertical-align: top;\n",
       "    }\n",
       "\n",
       "    .dataframe thead th {\n",
       "        text-align: right;\n",
       "    }\n",
       "</style>\n",
       "<table border=\"1\" class=\"dataframe\">\n",
       "  <thead>\n",
       "    <tr style=\"text-align: right;\">\n",
       "      <th></th>\n",
       "      <th>incentivized</th>\n",
       "      <th>if_neg</th>\n",
       "    </tr>\n",
       "  </thead>\n",
       "  <tbody>\n",
       "    <tr>\n",
       "      <th>774</th>\n",
       "      <td>0</td>\n",
       "      <td>1</td>\n",
       "    </tr>\n",
       "    <tr>\n",
       "      <th>825</th>\n",
       "      <td>1</td>\n",
       "      <td>0</td>\n",
       "    </tr>\n",
       "    <tr>\n",
       "      <th>1042</th>\n",
       "      <td>1</td>\n",
       "      <td>0</td>\n",
       "    </tr>\n",
       "    <tr>\n",
       "      <th>1147</th>\n",
       "      <td>1</td>\n",
       "      <td>0</td>\n",
       "    </tr>\n",
       "    <tr>\n",
       "      <th>1217</th>\n",
       "      <td>0</td>\n",
       "      <td>1</td>\n",
       "    </tr>\n",
       "  </tbody>\n",
       "</table>\n",
       "</div>"
      ],
      "text/plain": [
       "      incentivized  if_neg\n",
       "774              0       1\n",
       "825              1       0\n",
       "1042             1       0\n",
       "1147             1       0\n",
       "1217             0       1"
      ]
     },
     "execution_count": 42,
     "metadata": {},
     "output_type": "execute_result"
    }
   ],
   "source": [
    "reviews.head()"
   ]
  },
  {
   "cell_type": "code",
   "execution_count": 41,
   "metadata": {},
   "outputs": [],
   "source": [
    "reviews['incentivized'] = 1\n",
    "reviews['incentivized'] = reviews['incentivized'] - reviews['if_neg']\n",
    "reviews = reviews[['incentivized','if_neg']]"
   ]
  },
  {
   "cell_type": "code",
   "execution_count": 94,
   "metadata": {},
   "outputs": [
    {
     "data": {
      "text/html": [
       "<div>\n",
       "<style scoped>\n",
       "    .dataframe tbody tr th:only-of-type {\n",
       "        vertical-align: middle;\n",
       "    }\n",
       "\n",
       "    .dataframe tbody tr th {\n",
       "        vertical-align: top;\n",
       "    }\n",
       "\n",
       "    .dataframe thead th {\n",
       "        text-align: right;\n",
       "    }\n",
       "</style>\n",
       "<table border=\"1\" class=\"dataframe\">\n",
       "  <thead>\n",
       "    <tr style=\"text-align: right;\">\n",
       "      <th></th>\n",
       "      <th></th>\n",
       "      <th>reviewText</th>\n",
       "      <th>lemma</th>\n",
       "    </tr>\n",
       "    <tr>\n",
       "      <th>if_neg</th>\n",
       "      <th>if_neg_tree</th>\n",
       "      <th></th>\n",
       "      <th></th>\n",
       "    </tr>\n",
       "  </thead>\n",
       "  <tbody>\n",
       "    <tr>\n",
       "      <th rowspan=\"2\" valign=\"top\">0</th>\n",
       "      <th>0</th>\n",
       "      <td>537</td>\n",
       "      <td>537</td>\n",
       "    </tr>\n",
       "    <tr>\n",
       "      <th>1</th>\n",
       "      <td>67</td>\n",
       "      <td>67</td>\n",
       "    </tr>\n",
       "    <tr>\n",
       "      <th>1</th>\n",
       "      <th>1</th>\n",
       "      <td>30</td>\n",
       "      <td>30</td>\n",
       "    </tr>\n",
       "  </tbody>\n",
       "</table>\n",
       "</div>"
      ],
      "text/plain": [
       "                    reviewText  lemma\n",
       "if_neg if_neg_tree                   \n",
       "0      0                   537    537\n",
       "       1                    67     67\n",
       "1      1                    30     30"
      ]
     },
     "execution_count": 94,
     "metadata": {},
     "output_type": "execute_result"
    }
   ],
   "source": [
    "reviews.groupby(['if_neg','if_neg_tree']).count()\n",
    "#before/after\n",
    "#apply it to other datasets\n",
    "#plot the histogram on the rating (1-5): a way to reduce the sample size again to enlarge the affect of \n",
    "#incentivized revies because they are such a small portion"
   ]
  },
  {
   "cell_type": "code",
   "execution_count": 44,
   "metadata": {},
   "outputs": [],
   "source": [
    "df_incent = pd.merge(merged_reviews, reviews, left_index=True, right_index=True, how='left')\n",
    "df_incent['incentivized'] = df_incent['incentivized'].fillna(int(0))\n",
    "df_incent['if_neg'] = df_incent['if_neg'].fillna(int(0))"
   ]
  },
  {
   "cell_type": "code",
   "execution_count": 43,
   "metadata": {},
   "outputs": [],
   "source": [
    "# Load data\n",
    "merged_reviews = pd.read_csv('/Users/yujinglai/Dropbox/Eugenie/data/processed_julian_amazon_data/reviews_merged_with_similar_amazon_products_cellphone.csv', index_col=0, low_memory=False)"
   ]
  },
  {
   "cell_type": "code",
   "execution_count": 49,
   "metadata": {},
   "outputs": [
    {
     "data": {
      "text/html": [
       "<div>\n",
       "<style scoped>\n",
       "    .dataframe tbody tr th:only-of-type {\n",
       "        vertical-align: middle;\n",
       "    }\n",
       "\n",
       "    .dataframe tbody tr th {\n",
       "        vertical-align: top;\n",
       "    }\n",
       "\n",
       "    .dataframe thead th {\n",
       "        text-align: right;\n",
       "    }\n",
       "</style>\n",
       "<table border=\"1\" class=\"dataframe\">\n",
       "  <thead>\n",
       "    <tr style=\"text-align: right;\">\n",
       "      <th></th>\n",
       "      <th>asin</th>\n",
       "      <th>verified</th>\n",
       "      <th>reviewText</th>\n",
       "      <th>overall</th>\n",
       "      <th>summary</th>\n",
       "      <th>unixReviewTime</th>\n",
       "      <th>reviewerName</th>\n",
       "      <th>reviewTime</th>\n",
       "      <th>vote</th>\n",
       "      <th>image</th>\n",
       "      <th>...</th>\n",
       "      <th>sim2</th>\n",
       "      <th>sim3</th>\n",
       "      <th>sim4</th>\n",
       "      <th>sim5</th>\n",
       "      <th>sim6</th>\n",
       "      <th>sim7</th>\n",
       "      <th>sim8</th>\n",
       "      <th>sim9</th>\n",
       "      <th>incentivized</th>\n",
       "      <th>if_neg</th>\n",
       "    </tr>\n",
       "  </thead>\n",
       "  <tbody>\n",
       "    <tr>\n",
       "      <th>0</th>\n",
       "      <td>9713957334</td>\n",
       "      <td>True</td>\n",
       "      <td>I got the charger 2 weeks ago and one week lat...</td>\n",
       "      <td>1.0</td>\n",
       "      <td>This is a bad product. At least the charger is...</td>\n",
       "      <td>1489968000</td>\n",
       "      <td>oswaldo lopez</td>\n",
       "      <td>2017-03-20</td>\n",
       "      <td>2.0</td>\n",
       "      <td>0</td>\n",
       "      <td>...</td>\n",
       "      <td>0</td>\n",
       "      <td>0</td>\n",
       "      <td>0</td>\n",
       "      <td>0</td>\n",
       "      <td>0</td>\n",
       "      <td>0</td>\n",
       "      <td>0</td>\n",
       "      <td>0</td>\n",
       "      <td>0.0</td>\n",
       "      <td>0.0</td>\n",
       "    </tr>\n",
       "    <tr>\n",
       "      <th>1</th>\n",
       "      <td>9713957334</td>\n",
       "      <td>True</td>\n",
       "      <td>Not only does it take 20 minutes to charge a s...</td>\n",
       "      <td>1.0</td>\n",
       "      <td>Trash</td>\n",
       "      <td>1489622400</td>\n",
       "      <td>Ted Curtas</td>\n",
       "      <td>2017-03-16</td>\n",
       "      <td>0.0</td>\n",
       "      <td>0</td>\n",
       "      <td>...</td>\n",
       "      <td>0</td>\n",
       "      <td>0</td>\n",
       "      <td>0</td>\n",
       "      <td>0</td>\n",
       "      <td>0</td>\n",
       "      <td>0</td>\n",
       "      <td>0</td>\n",
       "      <td>0</td>\n",
       "      <td>0.0</td>\n",
       "      <td>0.0</td>\n",
       "    </tr>\n",
       "    <tr>\n",
       "      <th>2</th>\n",
       "      <td>9713957334</td>\n",
       "      <td>True</td>\n",
       "      <td>This charger was great while it lasted. Howeve...</td>\n",
       "      <td>1.0</td>\n",
       "      <td>Does not last</td>\n",
       "      <td>1489190400</td>\n",
       "      <td>Emily</td>\n",
       "      <td>2017-03-11</td>\n",
       "      <td>0.0</td>\n",
       "      <td>0</td>\n",
       "      <td>...</td>\n",
       "      <td>0</td>\n",
       "      <td>0</td>\n",
       "      <td>0</td>\n",
       "      <td>0</td>\n",
       "      <td>0</td>\n",
       "      <td>0</td>\n",
       "      <td>0</td>\n",
       "      <td>0</td>\n",
       "      <td>0.0</td>\n",
       "      <td>0.0</td>\n",
       "    </tr>\n",
       "    <tr>\n",
       "      <th>3</th>\n",
       "      <td>9713957334</td>\n",
       "      <td>True</td>\n",
       "      <td>cable is too short</td>\n",
       "      <td>3.0</td>\n",
       "      <td>Three Stars</td>\n",
       "      <td>1489104000</td>\n",
       "      <td>Rodney</td>\n",
       "      <td>2017-03-10</td>\n",
       "      <td>0.0</td>\n",
       "      <td>0</td>\n",
       "      <td>...</td>\n",
       "      <td>0</td>\n",
       "      <td>0</td>\n",
       "      <td>0</td>\n",
       "      <td>0</td>\n",
       "      <td>0</td>\n",
       "      <td>0</td>\n",
       "      <td>0</td>\n",
       "      <td>0</td>\n",
       "      <td>0.0</td>\n",
       "      <td>0.0</td>\n",
       "    </tr>\n",
       "    <tr>\n",
       "      <th>4</th>\n",
       "      <td>9713957334</td>\n",
       "      <td>True</td>\n",
       "      <td>Metal piece came out.  I pushed it back in but...</td>\n",
       "      <td>1.0</td>\n",
       "      <td>Don't trust</td>\n",
       "      <td>1486944000</td>\n",
       "      <td>Alicia</td>\n",
       "      <td>2017-02-13</td>\n",
       "      <td>0.0</td>\n",
       "      <td>0</td>\n",
       "      <td>...</td>\n",
       "      <td>0</td>\n",
       "      <td>0</td>\n",
       "      <td>0</td>\n",
       "      <td>0</td>\n",
       "      <td>0</td>\n",
       "      <td>0</td>\n",
       "      <td>0</td>\n",
       "      <td>0</td>\n",
       "      <td>0.0</td>\n",
       "      <td>0.0</td>\n",
       "    </tr>\n",
       "  </tbody>\n",
       "</table>\n",
       "<p>5 rows × 29 columns</p>\n",
       "</div>"
      ],
      "text/plain": [
       "         asin  verified                                         reviewText  \\\n",
       "0  9713957334      True  I got the charger 2 weeks ago and one week lat...   \n",
       "1  9713957334      True  Not only does it take 20 minutes to charge a s...   \n",
       "2  9713957334      True  This charger was great while it lasted. Howeve...   \n",
       "3  9713957334      True                                 cable is too short   \n",
       "4  9713957334      True  Metal piece came out.  I pushed it back in but...   \n",
       "\n",
       "   overall                                            summary  unixReviewTime  \\\n",
       "0      1.0  This is a bad product. At least the charger is...      1489968000   \n",
       "1      1.0                                              Trash      1489622400   \n",
       "2      1.0                                      Does not last      1489190400   \n",
       "3      3.0                                        Three Stars      1489104000   \n",
       "4      1.0                                        Don't trust      1486944000   \n",
       "\n",
       "    reviewerName  reviewTime  vote  image  ...   sim2 sim3 sim4 sim5 sim6  \\\n",
       "0  oswaldo lopez  2017-03-20   2.0      0  ...      0    0    0    0    0   \n",
       "1     Ted Curtas  2017-03-16   0.0      0  ...      0    0    0    0    0   \n",
       "2          Emily  2017-03-11   0.0      0  ...      0    0    0    0    0   \n",
       "3         Rodney  2017-03-10   0.0      0  ...      0    0    0    0    0   \n",
       "4         Alicia  2017-02-13   0.0      0  ...      0    0    0    0    0   \n",
       "\n",
       "  sim7 sim8  sim9 incentivized if_neg  \n",
       "0    0    0     0          0.0    0.0  \n",
       "1    0    0     0          0.0    0.0  \n",
       "2    0    0     0          0.0    0.0  \n",
       "3    0    0     0          0.0    0.0  \n",
       "4    0    0     0          0.0    0.0  \n",
       "\n",
       "[5 rows x 29 columns]"
      ]
     },
     "execution_count": 49,
     "metadata": {},
     "output_type": "execute_result"
    }
   ],
   "source": [
    "df_incent['if_neg'] = df_incent['if_neg'].fillna(int(0))\n",
    "df_incent.head()"
   ]
  },
  {
   "cell_type": "code",
   "execution_count": 50,
   "metadata": {},
   "outputs": [],
   "source": [
    "df_incent.to_csv('/Users/yujinglai/Dropbox/Eugenie/data/processed_julian_amazon_data/reviews_merged_with_similar_amazon_products_cellphone.csv')"
   ]
  },
  {
   "cell_type": "code",
   "execution_count": 33,
   "metadata": {},
   "outputs": [
    {
     "data": {
      "text/html": [
       "<div>\n",
       "<style scoped>\n",
       "    .dataframe tbody tr th:only-of-type {\n",
       "        vertical-align: middle;\n",
       "    }\n",
       "\n",
       "    .dataframe tbody tr th {\n",
       "        vertical-align: top;\n",
       "    }\n",
       "\n",
       "    .dataframe thead th {\n",
       "        text-align: right;\n",
       "    }\n",
       "</style>\n",
       "<table border=\"1\" class=\"dataframe\">\n",
       "  <thead>\n",
       "    <tr style=\"text-align: right;\">\n",
       "      <th></th>\n",
       "      <th>reviewText</th>\n",
       "      <th>lemma</th>\n",
       "      <th>incentivized</th>\n",
       "    </tr>\n",
       "  </thead>\n",
       "  <tbody>\n",
       "    <tr>\n",
       "      <th>0</th>\n",
       "      <td>I got the charger 2 weeks ago and one week lat...</td>\n",
       "      <td>-PRON- get the charger 2 week ago and one wee...</td>\n",
       "      <td>0.0</td>\n",
       "    </tr>\n",
       "    <tr>\n",
       "      <th>1</th>\n",
       "      <td>Not only does it take 20 minutes to charge a s...</td>\n",
       "      <td>not only do -PRON- take 20 minute to charge a...</td>\n",
       "      <td>0.0</td>\n",
       "    </tr>\n",
       "    <tr>\n",
       "      <th>2</th>\n",
       "      <td>This charger was great while it lasted. Howeve...</td>\n",
       "      <td>this charger be great while -PRON- last . how...</td>\n",
       "      <td>0.0</td>\n",
       "    </tr>\n",
       "    <tr>\n",
       "      <th>3</th>\n",
       "      <td>cable is too short</td>\n",
       "      <td>cable be too short</td>\n",
       "      <td>0.0</td>\n",
       "    </tr>\n",
       "    <tr>\n",
       "      <th>4</th>\n",
       "      <td>Metal piece came out.  I pushed it back in but...</td>\n",
       "      <td>metal piece come out .   -PRON- push -PRON- b...</td>\n",
       "      <td>0.0</td>\n",
       "    </tr>\n",
       "  </tbody>\n",
       "</table>\n",
       "</div>"
      ],
      "text/plain": [
       "                                          reviewText  \\\n",
       "0  I got the charger 2 weeks ago and one week lat...   \n",
       "1  Not only does it take 20 minutes to charge a s...   \n",
       "2  This charger was great while it lasted. Howeve...   \n",
       "3                                 cable is too short   \n",
       "4  Metal piece came out.  I pushed it back in but...   \n",
       "\n",
       "                                               lemma  incentivized  \n",
       "0   -PRON- get the charger 2 week ago and one wee...           0.0  \n",
       "1   not only do -PRON- take 20 minute to charge a...           0.0  \n",
       "2   this charger be great while -PRON- last . how...           0.0  \n",
       "3                                 cable be too short           0.0  \n",
       "4   metal piece come out .   -PRON- push -PRON- b...           0.0  "
      ]
     },
     "execution_count": 33,
     "metadata": {},
     "output_type": "execute_result"
    }
   ],
   "source": [
    "df_incent.head()"
   ]
  },
  {
   "cell_type": "code",
   "execution_count": 104,
   "metadata": {},
   "outputs": [
    {
     "name": "stdout",
     "output_type": "stream",
     "text": [
      "Review:\n",
      "With me always carrying an Android device and my wife going over to the dark side and getting an iPhone, we couldn't both charge at the same time in a vehicle. There are thousands of car chargers out there, but having a USB option allows for future cables as well that don't exist yet, like Apple that changes their format frequently.\n",
      "I have mad many chargers break, fail, or plain fall apart over the years and I have had great luck with Amazon Basic batteries in the past, so I thought I would give these a try. So far so good!\n",
      "I did not receive a discount on this product for my honest opinion, I paid full price for the item.\n",
      "\n",
      "Review:\n",
      "Love this little gadget! Whilst most cases/covers can form a folding stand, sometimes they just don't sit at the right angle, especially when using Skype or other video chat apps. Sometimes you need to have your iPad in portrait view, perhaps when using website based recipes... In any case, this little stand is perfect. Clean lines, easily but securely adjustable using the side button & sits at varying degrees.\n",
      "\n",
      "iPad feels secure in the stand, either out of a case or left within it, and it is small enough to take with you most places you think you might have the need. Mine has been used at my desk, in the kitchen & at my bedside, for that late night, Netflix fix!\n",
      "\n",
      "Very impressed with the quality & functionality, especially for the price. Thanks!\n",
      "\n",
      "This is my review for the \"Anker Multi-Angle Aluminum Stand for Tablets, e-readers, and Smartphones, Compatible with iPhone, iPad, Samsung Galaxy / Tab, Google Nexus, HTC, LG, Nokia Lumia, OnePlus and More- (Black)\".\n",
      "I try to review items I need or have a strong interest in so in order I can provide a review based on a real genuine trial so my opinions and experiences with the product are an actual true reflection of my personal experiences with the item.\n",
      "Because many of the products that I review, I have not been discounted or given this product for free. I chose to review so others can see what a great product this is. I do though still try to supply as much information as I can in terms of my initial experiences with the product, and the contents of the product as well.\n",
      "\n",
      "Review:\n",
      "PROS:\n",
      "-High quality materials (for the price).\n",
      "-Good fit and finish (mostly)\n",
      "-Hinge has different stops for different viewing angles and operates smoothly.\n",
      "-Metal portion has rubberized portions to prevent phone from touching.\n",
      "-Phone stays put if tugged if power cable gets lightly tugged.\n",
      "\n",
      "CONS:\n",
      "-None this far...\n",
      "\n",
      "VERDICT:\n",
      "Great quality, fit and finish, with a great range of angles.\n",
      "\n",
      "NOTE: This was not given to me or discounted in anyway. Like you, I am sick of all of these so-called \"unbiased\" and \"honest\" reviews where the seller gives the reviewer an item for little to no cost at all for their review.\n",
      "\n",
      "Review:\n",
      "I love this little charger. I investigated several wireless chargers and many had the same complaint... phone must be positioned just right to charge. The beauty of this device is that it's shaped like a phone, NOT a circle or a triangle! The logic seems sound, right? My Galaxy S7 Edge fits perfectly on top with no worries about correct placement. I have an Urban Armor Gear case on my phone and it still charges perfectly. I haven't experienced any excess heat during the charging cycle either. From everything I've read that's easily solved by removing your case while charging. I highly recommend this product!\n",
      "\n",
      "By the way, I paid full price for this charger and I'm NOT affiliated with TechMatte.\n",
      "\n",
      "Review:\n",
      "First off, this is a review from a true customer, I was not given any discounts or free products for my opinion. I read the reviews and hesitated to buy this on here because so many said it was a poor quality or counterfiet product. It appears to me to be a legit Samsung product.  My phone recognized it without giving any error messages.  It charged just like the one that came with my phone and has all of the same product markings my old one does.  I am very pleased with the product so far. I have a Galaxy S5. I will update my review if it has issues any time soon.***Update***with minor use it is now broken.  It looks fine, has no visible defects but no longer works at all.  Removing my 5 star rating. This was broken as of 11/14/16, so I really only got a few weeks use of it.\n",
      "\n"
     ]
    }
   ],
   "source": [
    "if_neg_tree1 = reviews[(reviews['if_neg'] ==0) & (reviews['if_neg_tree'] ==1)]\n",
    "for i in list(if_neg_tree1['reviewText'].head()):\n",
    "    print('Review:')\n",
    "    print(i)\n",
    "    print(\"\")"
   ]
  },
  {
   "cell_type": "code",
   "execution_count": 97,
   "metadata": {},
   "outputs": [
    {
     "name": "stdout",
     "output_type": "stream",
     "text": [
      "Review:\n",
      "I went to a discount store near my home to purchase a power adapter for my auto cigarette port. While there I was amazed to see that the pricing was so high. I pulled out my trusty iPhone I learned that Amazon had a similar adapter for about 50% less. I left the store and ordered the adapter from my car. I expected something less than the picture revealed. I was surprise to see the power adapter arrive nicer than I anticipated and included double stick take to hold the adapter in place. Great buy...lesson learned, shop with your smart phone and you will likely save money. I saved about $10 and received a device nicer than expected.\n",
      "\n",
      "Review:\n",
      "I received my 5-Port USB Wall Charger, EZOPower 36W 7.2A 5-Port USB Desktop Travel Charger Adapter with 8ft Extension Power Cord- Black, from Amazon, and wasted no time in testing it out. I had just gotten home from a bit of PokimonGo, so my phone was below 20%!\n",
      "\n",
      "The item came in a great package, I am sure the items inside were well protected. After unboxing, I took a peak at the power supply, Its a 3000mH switching supply, The documents says there are 3 1A ports and 2 Super Charge ports. The Super Ports seem to change their output power by the device attached to it.\n",
      "\n",
      "I decided to load this puppy up and see what she can do! I plugged in my iPhone, an iPad Mini, Wireless mouse, BT headsets and a Nexus 5 all at once. After an hour, my iPad, iPhone, Nexus and BT headset was all at 100%,\n",
      "\n",
      "The EZOPower station was only slightly warm, Nothing to be concerned about. This is perfectly normal for any multi charger. An hour to charge these 4 devices is normal the great thing about this device is the fact that you're only using ONE outlet to charge all 5 devices. Also, the Charging Station sits on your desk, there is no fumbling around, swapping the wall warts or USB cables under the desk. Everything is right there, easy to access.\n",
      "\n",
      "Overall, This device is quite helpful for the tech geek, It will have a perfect home on my nightstand to plug all my devices into!\n",
      "\n",
      "I did receive this product at a discount or for free in exchange for my honest and unbiased review.\n",
      "\n",
      "Review:\n",
      "My Iphones have always said that this device is unsupported and not charged with this.  I bought a Belkin specifically promoted by Apple and I don't have a problem with that car port charger. So if your an Iphone user definitely don't buy it.\n",
      "\n",
      "Review:\n",
      "With me always carrying an Android device and my wife going over to the dark side and getting an iPhone, we couldn't both charge at the same time in a vehicle. There are thousands of car chargers out there, but having a USB option allows for future cables as well that don't exist yet, like Apple that changes their format frequently.\n",
      "I have mad many chargers break, fail, or plain fall apart over the years and I have had great luck with Amazon Basic batteries in the past, so I thought I would give these a try. So far so good!\n",
      "I did not receive a discount on this product for my honest opinion, I paid full price for the item.\n",
      "\n",
      "Review:\n",
      "This Universal Mobile Daffodil TC03 Phone Charger is great!  It's USB Cell Phone Charging Cable that provides Multi-charging for: HTC / Samsung / iPhone / iPod / Nokia / ZTE / LG / Blackberry. I am using this at church for people to charge their phones while at service with a variety of phones, etc.  This product arrived on time and intact.  I have received a discount on this product in exchange for my honest review, but opinions are all my own.[...]\n",
      "\n"
     ]
    }
   ],
   "source": [
    "for i in list(reviews.loc[reviews['if_neg'] == 0,'reviewText'].head()):\n",
    "    print('Review:')\n",
    "    print(i)\n",
    "    print(\"\")"
   ]
  },
  {
   "cell_type": "code",
   "execution_count": 115,
   "metadata": {},
   "outputs": [],
   "source": [
    "def getSent(x):\n",
    "    doc = nlp(x)\n",
    "    incen_sent = ''\n",
    "    incen_tokens = [tok for tok in doc if tok.text in incentivized_flags]\n",
    "    for i in incen_tokens:\n",
    "        incen_sent += ' ' + str(i.sent)\n",
    "    return incen_sent"
   ]
  },
  {
   "cell_type": "code",
   "execution_count": 116,
   "metadata": {},
   "outputs": [
    {
     "data": {
      "text/plain": [
       "' I be given incentive. I be incentivize.'"
      ]
     },
     "execution_count": 116,
     "metadata": {},
     "output_type": "execute_result"
    }
   ],
   "source": [
    "getSent(\"I be given incentive. I be incentivize.\")"
   ]
  },
  {
   "cell_type": "code",
   "execution_count": 117,
   "metadata": {},
   "outputs": [
    {
     "data": {
      "text/html": [
       "<div>\n",
       "<style scoped>\n",
       "    .dataframe tbody tr th:only-of-type {\n",
       "        vertical-align: middle;\n",
       "    }\n",
       "\n",
       "    .dataframe tbody tr th {\n",
       "        vertical-align: top;\n",
       "    }\n",
       "\n",
       "    .dataframe thead th {\n",
       "        text-align: right;\n",
       "    }\n",
       "</style>\n",
       "<table border=\"1\" class=\"dataframe\">\n",
       "  <thead>\n",
       "    <tr style=\"text-align: right;\">\n",
       "      <th></th>\n",
       "      <th>lemma</th>\n",
       "    </tr>\n",
       "  </thead>\n",
       "  <tbody>\n",
       "    <tr>\n",
       "      <th>774</th>\n",
       "      <td>accept no discount , trade or payment of any ...</td>\n",
       "    </tr>\n",
       "    <tr>\n",
       "      <th>825</th>\n",
       "      <td>-PRON- go to a discount store near -PRON- ho...</td>\n",
       "    </tr>\n",
       "    <tr>\n",
       "      <th>1042</th>\n",
       "      <td>do receive this product at a discount or for ...</td>\n",
       "    </tr>\n",
       "    <tr>\n",
       "      <th>1147</th>\n",
       "      <td>-PRON- buy a Belkin specifically promote by A...</td>\n",
       "    </tr>\n",
       "    <tr>\n",
       "      <th>1217</th>\n",
       "      <td>do not receive a discount on this product for...</td>\n",
       "    </tr>\n",
       "  </tbody>\n",
       "</table>\n",
       "</div>"
      ],
      "text/plain": [
       "                                                  lemma\n",
       "774    accept no discount , trade or payment of any ...\n",
       "825     -PRON- go to a discount store near -PRON- ho...\n",
       "1042   do receive this product at a discount or for ...\n",
       "1147   -PRON- buy a Belkin specifically promote by A...\n",
       "1217   do not receive a discount on this product for..."
      ]
     },
     "execution_count": 117,
     "metadata": {},
     "output_type": "execute_result"
    }
   ],
   "source": [
    "incen_sents = pd.DataFrame(reviews['lemma'].apply(getSent))\n",
    "incen_sents.head()"
   ]
  },
  {
   "cell_type": "code",
   "execution_count": 118,
   "metadata": {},
   "outputs": [],
   "source": [
    "incen_sents.to_csv('incen_sents.csv')"
   ]
  },
  {
   "cell_type": "code",
   "execution_count": null,
   "metadata": {},
   "outputs": [],
   "source": []
  }
 ],
 "metadata": {
  "kernelspec": {
   "display_name": "Python 3",
   "language": "python",
   "name": "python3"
  },
  "language_info": {
   "codemirror_mode": {
    "name": "ipython",
    "version": 3
   },
   "file_extension": ".py",
   "mimetype": "text/x-python",
   "name": "python",
   "nbconvert_exporter": "python",
   "pygments_lexer": "ipython3",
   "version": "3.6.5"
  }
 },
 "nbformat": 4,
 "nbformat_minor": 2
}
