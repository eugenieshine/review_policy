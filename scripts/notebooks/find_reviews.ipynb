{
 "cells": [
  {
   "cell_type": "code",
   "execution_count": 1,
   "metadata": {},
   "outputs": [],
   "source": [
    "import json\n",
    "import pandas as pd\n",
    "import gzip\n",
    "import math\n",
    "from datetime import datetime\n",
    "\n",
    "# To count frequency in lists\n",
    "import collections\n",
    "\n",
    "# For graphing\n",
    "import numpy as np\n",
    "import matplotlib.mlab as mlab\n",
    "import matplotlib.pyplot as plt"
   ]
  },
  {
   "cell_type": "markdown",
   "metadata": {},
   "source": [
    "### Purpose: find review count for Amazon vs. non-Amazon products in the subcategories"
   ]
  },
  {
   "cell_type": "code",
   "execution_count": 2,
   "metadata": {},
   "outputs": [],
   "source": [
    "def parse(path):\n",
    "  g = gzip.open(path, 'rb')\n",
    "  for l in g:\n",
    "    yield json.loads(l)\n",
    "\n",
    "def getDF(path):\n",
    "  i = 0\n",
    "  df = {}\n",
    "  for d in parse(path):\n",
    "    df[i] = d\n",
    "    i += 1\n",
    "  return pd.DataFrame.from_dict(df, orient='index')\n",
    "\n",
    "df = getDF('/Users/yujinglai/Dropbox/Eugenie/data/new_amazon_cell_phone_accessories/meta_Cell_Phones_and_Accessories.json.gz')\n",
    "\n",
    "# Drop irrelevant columns\n",
    "df.drop(['image', 'feature', 'also_buy', 'also_view', 'similar_item', 'date', 'details', 'tech1', 'tech2', 'fit'], axis=1, inplace=True)\n",
    "\n",
    "# Drop records with nan in category\n",
    "df = df.dropna(subset=['category'])"
   ]
  },
  {
   "cell_type": "code",
   "execution_count": 3,
   "metadata": {},
   "outputs": [
    {
     "name": "stderr",
     "output_type": "stream",
     "text": [
      "/Users/yujinglai/anaconda3/lib/python3.6/site-packages/IPython/core/interactiveshell.py:2785: DtypeWarning: Columns (9) have mixed types. Specify dtype option on import or set low_memory=False.\n",
      "  interactivity=interactivity, compiler=compiler, result=result)\n"
     ]
    }
   ],
   "source": [
    "# Load review data\n",
    "# This file contains reviews for all categories in Cell Phone Electronics within the one-year time frame\n",
    "reviews = pd.read_csv('/Users/yujinglai/Downloads/reviews_asin.csv')\n",
    "reviews.drop(reviews.columns[0], axis=1, inplace=True) # Drop index column\n",
    "\n",
    "def numImg(x): \n",
    "    if (type(x) is str):\n",
    "        return x.count(',')\n",
    "    return 0\n",
    "\n",
    "def numVote(x):\n",
    "    if (type(x) is str):\n",
    "        return float(int(x.replace(',', '')))\n",
    "    if (math.isnan(x)):\n",
    "        return 0\n",
    "    return x\n",
    "\n",
    "# Process reviews\n",
    "reviews['image'] = reviews['image'].apply(numImg) # Add image count\n",
    "reviews['vote'] = reviews['vote'].apply(numVote) # Add vote count\n",
    "reviews['reviewTime'] = reviews['reviewTime'].apply(lambda x: str(datetime.strptime(x, '%m %d, %Y').date()))"
   ]
  },
  {
   "cell_type": "code",
   "execution_count": 4,
   "metadata": {},
   "outputs": [],
   "source": [
    "def ifAmazon (x):\n",
    "    if x == 'Amazon' or x == 'AmazonBasics':\n",
    "        return 1\n",
    "    return 0\n",
    "\n",
    "# Add amazon label to each product\n",
    "df['amazon'] = df['brand'].apply(ifAmazon)"
   ]
  },
  {
   "cell_type": "code",
   "execution_count": 5,
   "metadata": {},
   "outputs": [
    {
     "data": {
      "text/html": [
       "<div>\n",
       "<style scoped>\n",
       "    .dataframe tbody tr th:only-of-type {\n",
       "        vertical-align: middle;\n",
       "    }\n",
       "\n",
       "    .dataframe tbody tr th {\n",
       "        vertical-align: top;\n",
       "    }\n",
       "\n",
       "    .dataframe thead th {\n",
       "        text-align: right;\n",
       "    }\n",
       "</style>\n",
       "<table border=\"1\" class=\"dataframe\">\n",
       "  <thead>\n",
       "    <tr style=\"text-align: right;\">\n",
       "      <th></th>\n",
       "      <th>category</th>\n",
       "      <th>description</th>\n",
       "      <th>title</th>\n",
       "      <th>brand</th>\n",
       "      <th>rank</th>\n",
       "      <th>main_cat</th>\n",
       "      <th>asin</th>\n",
       "      <th>price</th>\n",
       "      <th>amazon</th>\n",
       "    </tr>\n",
       "  </thead>\n",
       "  <tbody>\n",
       "    <tr>\n",
       "      <th>0</th>\n",
       "      <td>[Cell Phones &amp; Accessories, Accessories, Selfi...</td>\n",
       "      <td>[If you've searched monopod amazon, monopod ip...</td>\n",
       "      <td>90 Degree Twist-lock Extendable Pole for Photo...</td>\n",
       "      <td>Bonison</td>\n",
       "      <td>&gt;#2,181,607 in Cell Phones &amp; Accessories (See ...</td>\n",
       "      <td>Cell Phones &amp; Accessories</td>\n",
       "      <td>0220132968</td>\n",
       "      <td>NaN</td>\n",
       "      <td>0</td>\n",
       "    </tr>\n",
       "    <tr>\n",
       "      <th>1</th>\n",
       "      <td>[Cell Phones &amp; Accessories, Accessories, Scree...</td>\n",
       "      <td>NaN</td>\n",
       "      <td>Fairy Tales (Doodle Art)</td>\n",
       "      <td>Fitquipment</td>\n",
       "      <td>&gt;#7,432,623 in Cell Phones &amp; Accessories (See ...</td>\n",
       "      <td>Cell Phones &amp; Accessories</td>\n",
       "      <td>0843165685</td>\n",
       "      <td>NaN</td>\n",
       "      <td>0</td>\n",
       "    </tr>\n",
       "    <tr>\n",
       "      <th>2</th>\n",
       "      <td>[Cell Phones &amp; Accessories, Accessories, Scree...</td>\n",
       "      <td>[, Item:Half-Black Galaxy S9 PlusScratch termi...</td>\n",
       "      <td>[2-Pack] Galaxy S9 Plus Screen Protector,Cafet...</td>\n",
       "      <td>Cafetec</td>\n",
       "      <td>&gt;#2,969 in Cell Phones &amp; Accessories (See Top ...</td>\n",
       "      <td>Cell Phones &amp; Accessories</td>\n",
       "      <td>0857757652</td>\n",
       "      <td>$9.99</td>\n",
       "      <td>0</td>\n",
       "    </tr>\n",
       "    <tr>\n",
       "      <th>3</th>\n",
       "      <td>[Cell Phones &amp; Accessories, Accessories, Scree...</td>\n",
       "      <td>[, Item:Half-Black Galaxy S9 PlusScratch termi...</td>\n",
       "      <td>[2-Pack] Galaxy S9 Plus Screen Protector,Cafet...</td>\n",
       "      <td>Cafetec</td>\n",
       "      <td>&gt;#2,969 in Cell Phones &amp; Accessories (See Top ...</td>\n",
       "      <td>Cell Phones &amp; Accessories</td>\n",
       "      <td>0865815194</td>\n",
       "      <td>$9.99</td>\n",
       "      <td>0</td>\n",
       "    </tr>\n",
       "    <tr>\n",
       "      <th>4</th>\n",
       "      <td>[Cell Phones &amp; Accessories, Accessories, Car A...</td>\n",
       "      <td>[Volume I focuses on the center of the body in...</td>\n",
       "      <td>Get Stronger by Stretching with Thera Band Vol...</td>\n",
       "      <td>Noa Spector-Flock</td>\n",
       "      <td>920,439inMoviesTV(</td>\n",
       "      <td>Movies &amp; TV</td>\n",
       "      <td>087127244X</td>\n",
       "      <td>NaN</td>\n",
       "      <td>0</td>\n",
       "    </tr>\n",
       "  </tbody>\n",
       "</table>\n",
       "</div>"
      ],
      "text/plain": [
       "                                            category  \\\n",
       "0  [Cell Phones & Accessories, Accessories, Selfi...   \n",
       "1  [Cell Phones & Accessories, Accessories, Scree...   \n",
       "2  [Cell Phones & Accessories, Accessories, Scree...   \n",
       "3  [Cell Phones & Accessories, Accessories, Scree...   \n",
       "4  [Cell Phones & Accessories, Accessories, Car A...   \n",
       "\n",
       "                                         description  \\\n",
       "0  [If you've searched monopod amazon, monopod ip...   \n",
       "1                                                NaN   \n",
       "2  [, Item:Half-Black Galaxy S9 PlusScratch termi...   \n",
       "3  [, Item:Half-Black Galaxy S9 PlusScratch termi...   \n",
       "4  [Volume I focuses on the center of the body in...   \n",
       "\n",
       "                                               title              brand  \\\n",
       "0  90 Degree Twist-lock Extendable Pole for Photo...            Bonison   \n",
       "1                           Fairy Tales (Doodle Art)        Fitquipment   \n",
       "2  [2-Pack] Galaxy S9 Plus Screen Protector,Cafet...            Cafetec   \n",
       "3  [2-Pack] Galaxy S9 Plus Screen Protector,Cafet...            Cafetec   \n",
       "4  Get Stronger by Stretching with Thera Band Vol...  Noa Spector-Flock   \n",
       "\n",
       "                                                rank  \\\n",
       "0  >#2,181,607 in Cell Phones & Accessories (See ...   \n",
       "1  >#7,432,623 in Cell Phones & Accessories (See ...   \n",
       "2  >#2,969 in Cell Phones & Accessories (See Top ...   \n",
       "3  >#2,969 in Cell Phones & Accessories (See Top ...   \n",
       "4                                 920,439inMoviesTV(   \n",
       "\n",
       "                    main_cat        asin  price  amazon  \n",
       "0  Cell Phones & Accessories  0220132968    NaN       0  \n",
       "1  Cell Phones & Accessories  0843165685    NaN       0  \n",
       "2  Cell Phones & Accessories  0857757652  $9.99       0  \n",
       "3  Cell Phones & Accessories  0865815194  $9.99       0  \n",
       "4                Movies & TV  087127244X    NaN       0  "
      ]
     },
     "execution_count": 5,
     "metadata": {},
     "output_type": "execute_result"
    }
   ],
   "source": [
    "df.head()"
   ]
  },
  {
   "cell_type": "code",
   "execution_count": 5,
   "metadata": {},
   "outputs": [
    {
     "name": "stdout",
     "output_type": "stream",
     "text": [
      "There are 4911 unique subcategories\n",
      "The top 10 subcategories are: ['Cell Phones & Accessories']\n"
     ]
    }
   ],
   "source": [
    "# All records have the same category labels\n",
    "cats = []\n",
    "df['category'].apply(lambda x: cats.extend(x))\n",
    "print(\"There are %d unique subcategories\" % len(set(cats)))\n",
    "\n",
    "# Get the top 10 subcategories as a list\n",
    "cats = collections.Counter(cats)\n",
    "cats = {k: v for k, v in reversed(sorted(cats.items(), key = lambda item: item[1]))}\n",
    "cats = list(cats.keys())[0:1]\n",
    "print(\"The top 10 subcategories are: %s\" % cats)"
   ]
  },
  {
   "cell_type": "code",
   "execution_count": 6,
   "metadata": {},
   "outputs": [],
   "source": [
    "def common_member(a, cats): \n",
    "    a_set = set(a) \n",
    "    b_set = set(cats) \n",
    "    if (a_set & b_set): \n",
    "        return True \n",
    "    else: \n",
    "        return False"
   ]
  },
  {
   "cell_type": "code",
   "execution_count": 7,
   "metadata": {},
   "outputs": [],
   "source": [
    "# Get products within top subcategories\n",
    "df = df.loc[df['category'].apply(lambda x: common_member(x, cats))]"
   ]
  },
  {
   "cell_type": "code",
   "execution_count": 5,
   "metadata": {},
   "outputs": [
    {
     "data": {
      "text/plain": [
       "(534651, 9)"
      ]
     },
     "execution_count": 5,
     "metadata": {},
     "output_type": "execute_result"
    }
   ],
   "source": [
    "df.shape"
   ]
  },
  {
   "cell_type": "code",
   "execution_count": 19,
   "metadata": {},
   "outputs": [],
   "source": [
    "def remove_uncommon(x, cats):\n",
    "    return list(set(x) & set(cats))"
   ]
  },
  {
   "cell_type": "code",
   "execution_count": 20,
   "metadata": {},
   "outputs": [],
   "source": [
    "# Remove subcategories not in tops\n",
    "df['category'] = df['category'].apply(lambda x: remove_uncommon(x, cats))"
   ]
  },
  {
   "cell_type": "code",
   "execution_count": 21,
   "metadata": {},
   "outputs": [
    {
     "data": {
      "text/plain": [
       "0    [Cell Phones & Accessories]\n",
       "1    [Cell Phones & Accessories]\n",
       "2    [Cell Phones & Accessories]\n",
       "3    [Cell Phones & Accessories]\n",
       "4    [Cell Phones & Accessories]\n",
       "Name: category, dtype: object"
      ]
     },
     "execution_count": 21,
     "metadata": {},
     "output_type": "execute_result"
    }
   ],
   "source": [
    "df['category'].head()"
   ]
  },
  {
   "cell_type": "code",
   "execution_count": 10,
   "metadata": {},
   "outputs": [],
   "source": [
    "def create_cols(df):\n",
    "    for i in cats:\n",
    "        df[i] = df['category'].apply(lambda x: int(i in x))"
   ]
  },
  {
   "cell_type": "code",
   "execution_count": 11,
   "metadata": {},
   "outputs": [],
   "source": [
    "# Create a binary column for each subcategory\n",
    "create_cols(df)"
   ]
  },
  {
   "cell_type": "code",
   "execution_count": 13,
   "metadata": {},
   "outputs": [
    {
     "data": {
      "text/plain": [
       "amazon\n",
       "0    534606\n",
       "1        45\n",
       "Name: asin, dtype: int64"
      ]
     },
     "execution_count": 13,
     "metadata": {},
     "output_type": "execute_result"
    }
   ],
   "source": [
    "# Count the number products in each subcategory\n",
    "# Before dropping products with less than 10 reviews\n",
    "df['asin'].groupby([df['amazon']]).count()"
   ]
  },
  {
   "cell_type": "code",
   "execution_count": 12,
   "metadata": {},
   "outputs": [],
   "source": [
    "df_merged = pd.merge(reviews, df, on='asin')"
   ]
  },
  {
   "cell_type": "code",
   "execution_count": 29,
   "metadata": {},
   "outputs": [
    {
     "data": {
      "text/html": [
       "<div>\n",
       "<style scoped>\n",
       "    .dataframe tbody tr th:only-of-type {\n",
       "        vertical-align: middle;\n",
       "    }\n",
       "\n",
       "    .dataframe tbody tr th {\n",
       "        vertical-align: top;\n",
       "    }\n",
       "\n",
       "    .dataframe thead th {\n",
       "        text-align: right;\n",
       "    }\n",
       "</style>\n",
       "<table border=\"1\" class=\"dataframe\">\n",
       "  <thead>\n",
       "    <tr style=\"text-align: right;\">\n",
       "      <th></th>\n",
       "      <th>asin</th>\n",
       "      <th>verified</th>\n",
       "      <th>reviewText</th>\n",
       "      <th>overall</th>\n",
       "      <th>summary</th>\n",
       "      <th>unixReviewTime</th>\n",
       "      <th>reviewerName</th>\n",
       "      <th>reviewTime</th>\n",
       "      <th>vote</th>\n",
       "      <th>image</th>\n",
       "      <th>category</th>\n",
       "      <th>description</th>\n",
       "      <th>title</th>\n",
       "      <th>brand</th>\n",
       "      <th>rank</th>\n",
       "      <th>main_cat</th>\n",
       "      <th>price</th>\n",
       "      <th>amazon</th>\n",
       "      <th>Cell Phones &amp; Accessories</th>\n",
       "    </tr>\n",
       "  </thead>\n",
       "  <tbody>\n",
       "    <tr>\n",
       "      <th>0</th>\n",
       "      <td>7391002801</td>\n",
       "      <td>True</td>\n",
       "      <td>Highly recommend!!!</td>\n",
       "      <td>5.0</td>\n",
       "      <td>Five Stars</td>\n",
       "      <td>1475884800</td>\n",
       "      <td>Michael Marone</td>\n",
       "      <td>2016-10-08</td>\n",
       "      <td>0.0</td>\n",
       "      <td>0</td>\n",
       "      <td>[Cell Phones &amp; Accessories]</td>\n",
       "      <td>[Silver Elegant Butterfly Foot Ankle Chain Sum...</td>\n",
       "      <td>Silver Elegant Butterfly Foot Ankle Chain Summ...</td>\n",
       "      <td>Accessory</td>\n",
       "      <td>&gt;#1,978,999 in Tools &amp; Home Improvement (See t...</td>\n",
       "      <td>Tools &amp; Home Improvement</td>\n",
       "      <td>NaN</td>\n",
       "      <td>0</td>\n",
       "      <td>1</td>\n",
       "    </tr>\n",
       "    <tr>\n",
       "      <th>1</th>\n",
       "      <td>7391002801</td>\n",
       "      <td>True</td>\n",
       "      <td>great</td>\n",
       "      <td>5.0</td>\n",
       "      <td>Five Stars</td>\n",
       "      <td>1464566400</td>\n",
       "      <td>tim  jensen</td>\n",
       "      <td>2016-05-30</td>\n",
       "      <td>0.0</td>\n",
       "      <td>0</td>\n",
       "      <td>[Cell Phones &amp; Accessories]</td>\n",
       "      <td>[Silver Elegant Butterfly Foot Ankle Chain Sum...</td>\n",
       "      <td>Silver Elegant Butterfly Foot Ankle Chain Summ...</td>\n",
       "      <td>Accessory</td>\n",
       "      <td>&gt;#1,978,999 in Tools &amp; Home Improvement (See t...</td>\n",
       "      <td>Tools &amp; Home Improvement</td>\n",
       "      <td>NaN</td>\n",
       "      <td>0</td>\n",
       "      <td>1</td>\n",
       "    </tr>\n",
       "    <tr>\n",
       "      <th>2</th>\n",
       "      <td>8288878881</td>\n",
       "      <td>True</td>\n",
       "      <td>Perfect from box to phone. Only original produ...</td>\n",
       "      <td>5.0</td>\n",
       "      <td>Five Stars</td>\n",
       "      <td>1478131200</td>\n",
       "      <td>Amazon Customer</td>\n",
       "      <td>2016-11-03</td>\n",
       "      <td>0.0</td>\n",
       "      <td>0</td>\n",
       "      <td>[Cell Phones &amp; Accessories]</td>\n",
       "      <td>[Safely charge your phone using the original a...</td>\n",
       "      <td>Samsung Galaxy S2 Phone OEM Official Travel US...</td>\n",
       "      <td>Samsung</td>\n",
       "      <td>&gt;#245,551 in Cell Phones &amp; Accessories (See To...</td>\n",
       "      <td>Cell Phones &amp; Accessories</td>\n",
       "      <td>NaN</td>\n",
       "      <td>0</td>\n",
       "      <td>1</td>\n",
       "    </tr>\n",
       "    <tr>\n",
       "      <th>3</th>\n",
       "      <td>8288878881</td>\n",
       "      <td>True</td>\n",
       "      <td>I regret buying this charger. Yes, it was chea...</td>\n",
       "      <td>3.0</td>\n",
       "      <td>Get What You Pay For</td>\n",
       "      <td>1475280000</td>\n",
       "      <td>Trusted Reviewer</td>\n",
       "      <td>2016-10-01</td>\n",
       "      <td>0.0</td>\n",
       "      <td>0</td>\n",
       "      <td>[Cell Phones &amp; Accessories]</td>\n",
       "      <td>[Safely charge your phone using the original a...</td>\n",
       "      <td>Samsung Galaxy S2 Phone OEM Official Travel US...</td>\n",
       "      <td>Samsung</td>\n",
       "      <td>&gt;#245,551 in Cell Phones &amp; Accessories (See To...</td>\n",
       "      <td>Cell Phones &amp; Accessories</td>\n",
       "      <td>NaN</td>\n",
       "      <td>0</td>\n",
       "      <td>1</td>\n",
       "    </tr>\n",
       "    <tr>\n",
       "      <th>4</th>\n",
       "      <td>8288878881</td>\n",
       "      <td>True</td>\n",
       "      <td>Best charger I've ever had... Love it!</td>\n",
       "      <td>5.0</td>\n",
       "      <td>Five Stars</td>\n",
       "      <td>1474243200</td>\n",
       "      <td>MOM-MOM</td>\n",
       "      <td>2016-09-19</td>\n",
       "      <td>0.0</td>\n",
       "      <td>0</td>\n",
       "      <td>[Cell Phones &amp; Accessories]</td>\n",
       "      <td>[Safely charge your phone using the original a...</td>\n",
       "      <td>Samsung Galaxy S2 Phone OEM Official Travel US...</td>\n",
       "      <td>Samsung</td>\n",
       "      <td>&gt;#245,551 in Cell Phones &amp; Accessories (See To...</td>\n",
       "      <td>Cell Phones &amp; Accessories</td>\n",
       "      <td>NaN</td>\n",
       "      <td>0</td>\n",
       "      <td>1</td>\n",
       "    </tr>\n",
       "  </tbody>\n",
       "</table>\n",
       "</div>"
      ],
      "text/plain": [
       "         asin  verified                                         reviewText  \\\n",
       "0  7391002801      True                                Highly recommend!!!   \n",
       "1  7391002801      True                                              great   \n",
       "2  8288878881      True  Perfect from box to phone. Only original produ...   \n",
       "3  8288878881      True  I regret buying this charger. Yes, it was chea...   \n",
       "4  8288878881      True             Best charger I've ever had... Love it!   \n",
       "\n",
       "   overall               summary  unixReviewTime      reviewerName  \\\n",
       "0      5.0            Five Stars      1475884800    Michael Marone   \n",
       "1      5.0            Five Stars      1464566400       tim  jensen   \n",
       "2      5.0            Five Stars      1478131200   Amazon Customer   \n",
       "3      3.0  Get What You Pay For      1475280000  Trusted Reviewer   \n",
       "4      5.0            Five Stars      1474243200           MOM-MOM   \n",
       "\n",
       "   reviewTime  vote  image                     category  \\\n",
       "0  2016-10-08   0.0      0  [Cell Phones & Accessories]   \n",
       "1  2016-05-30   0.0      0  [Cell Phones & Accessories]   \n",
       "2  2016-11-03   0.0      0  [Cell Phones & Accessories]   \n",
       "3  2016-10-01   0.0      0  [Cell Phones & Accessories]   \n",
       "4  2016-09-19   0.0      0  [Cell Phones & Accessories]   \n",
       "\n",
       "                                         description  \\\n",
       "0  [Silver Elegant Butterfly Foot Ankle Chain Sum...   \n",
       "1  [Silver Elegant Butterfly Foot Ankle Chain Sum...   \n",
       "2  [Safely charge your phone using the original a...   \n",
       "3  [Safely charge your phone using the original a...   \n",
       "4  [Safely charge your phone using the original a...   \n",
       "\n",
       "                                               title      brand  \\\n",
       "0  Silver Elegant Butterfly Foot Ankle Chain Summ...  Accessory   \n",
       "1  Silver Elegant Butterfly Foot Ankle Chain Summ...  Accessory   \n",
       "2  Samsung Galaxy S2 Phone OEM Official Travel US...    Samsung   \n",
       "3  Samsung Galaxy S2 Phone OEM Official Travel US...    Samsung   \n",
       "4  Samsung Galaxy S2 Phone OEM Official Travel US...    Samsung   \n",
       "\n",
       "                                                rank  \\\n",
       "0  >#1,978,999 in Tools & Home Improvement (See t...   \n",
       "1  >#1,978,999 in Tools & Home Improvement (See t...   \n",
       "2  >#245,551 in Cell Phones & Accessories (See To...   \n",
       "3  >#245,551 in Cell Phones & Accessories (See To...   \n",
       "4  >#245,551 in Cell Phones & Accessories (See To...   \n",
       "\n",
       "                    main_cat price  amazon  Cell Phones & Accessories  \n",
       "0   Tools & Home Improvement   NaN       0                          1  \n",
       "1   Tools & Home Improvement   NaN       0                          1  \n",
       "2  Cell Phones & Accessories   NaN       0                          1  \n",
       "3  Cell Phones & Accessories   NaN       0                          1  \n",
       "4  Cell Phones & Accessories   NaN       0                          1  "
      ]
     },
     "execution_count": 29,
     "metadata": {},
     "output_type": "execute_result"
    }
   ],
   "source": [
    "df_merged.head(5)"
   ]
  },
  {
   "cell_type": "code",
   "execution_count": 18,
   "metadata": {},
   "outputs": [
    {
     "data": {
      "text/plain": [
       "amazon\n",
       "0.0    517440\n",
       "1.0        43\n",
       "Name: index, dtype: int64"
      ]
     },
     "execution_count": 18,
     "metadata": {},
     "output_type": "execute_result"
    }
   ],
   "source": [
    "#df_merged['index'] = df_merged.index\n",
    "df_merged['index'].groupby([df['amazon']]).count()"
   ]
  },
  {
   "cell_type": "code",
   "execution_count": 13,
   "metadata": {},
   "outputs": [],
   "source": [
    "# Remove asin with less than 10 reviews\n",
    "df_merged['review_count'] = df_merged.groupby('asin')['asin'].transform('count') # Count reviews/asin\n",
    "df_merged = df_merged.loc[df_merged['review_count'] > 10]"
   ]
  },
  {
   "cell_type": "code",
   "execution_count": 14,
   "metadata": {},
   "outputs": [],
   "source": [
    "# Count the number reviews in each subcategory\n",
    "reviews_count = df_merged.groupby([df_merged['amazon']]).sum().astype(int)[cats]"
   ]
  },
  {
   "cell_type": "code",
   "execution_count": 15,
   "metadata": {},
   "outputs": [],
   "source": [
    "# Count the number products in each subcategory\n",
    "cols = ['asin','amazon'] + cats\n",
    "df_asin = df_merged[cols].drop_duplicates()\n",
    "products_count = df_asin.groupby([df_asin['amazon']]).sum().astype(int)"
   ]
  },
  {
   "cell_type": "code",
   "execution_count": 16,
   "metadata": {},
   "outputs": [
    {
     "name": "stdout",
     "output_type": "stream",
     "text": [
      "1824228 1632\n"
     ]
    }
   ],
   "source": [
    "print(reviews_count.iloc[0,0], reviews_count.iloc[1,0])"
   ]
  },
  {
   "cell_type": "code",
   "execution_count": 17,
   "metadata": {},
   "outputs": [
    {
     "name": "stdout",
     "output_type": "stream",
     "text": [
      "29276 9\n"
     ]
    }
   ],
   "source": [
    "print(products_count.iloc[0,0], products_count.iloc[1,0])"
   ]
  },
  {
   "cell_type": "code",
   "execution_count": 18,
   "metadata": {},
   "outputs": [
    {
     "data": {
      "text/plain": [
       "'Cell Phones & Accessories'"
      ]
     },
     "execution_count": 18,
     "metadata": {},
     "output_type": "execute_result"
    }
   ],
   "source": [
    "cats[0]"
   ]
  },
  {
   "cell_type": "code",
   "execution_count": null,
   "metadata": {},
   "outputs": [],
   "source": []
  }
 ],
 "metadata": {
  "kernelspec": {
   "display_name": "Python 3",
   "language": "python",
   "name": "python3"
  },
  "language_info": {
   "codemirror_mode": {
    "name": "ipython",
    "version": 3
   },
   "file_extension": ".py",
   "mimetype": "text/x-python",
   "name": "python",
   "nbconvert_exporter": "python",
   "pygments_lexer": "ipython3",
   "version": "3.6.5"
  }
 },
 "nbformat": 4,
 "nbformat_minor": 2
}
