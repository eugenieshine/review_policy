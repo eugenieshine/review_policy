{
 "cells": [
  {
   "cell_type": "code",
   "execution_count": 31,
   "metadata": {},
   "outputs": [],
   "source": [
    "import pandas as pd\n",
    "import math\n",
    "from datetime import datetime\n",
    "\n",
    "# To count frequency in lists\n",
    "import collections\n",
    "\n",
    "# For graphing\n",
    "import numpy as np\n",
    "import matplotlib.mlab as mlab\n",
    "import matplotlib.pyplot as plt"
   ]
  },
  {
   "cell_type": "code",
   "execution_count": 2,
   "metadata": {},
   "outputs": [
    {
     "name": "stderr",
     "output_type": "stream",
     "text": [
      "/Users/yujinglai/anaconda3/lib/python3.6/site-packages/IPython/core/interactiveshell.py:2785: DtypeWarning: Columns (9) have mixed types. Specify dtype option on import or set low_memory=False.\n",
      "  interactivity=interactivity, compiler=compiler, result=result)\n"
     ]
    }
   ],
   "source": [
    "#df = pd.read_csv('/Users/yujinglai/Dropbox/Eugenie/data/raw/reviews_asin.csv')\n",
    "df = pd.read_csv('/Users/yujinglai/Downloads/reviews_asin.csv')"
   ]
  },
  {
   "cell_type": "code",
   "execution_count": 13,
   "metadata": {},
   "outputs": [
    {
     "data": {
      "text/html": [
       "<div>\n",
       "<style scoped>\n",
       "    .dataframe tbody tr th:only-of-type {\n",
       "        vertical-align: middle;\n",
       "    }\n",
       "\n",
       "    .dataframe tbody tr th {\n",
       "        vertical-align: top;\n",
       "    }\n",
       "\n",
       "    .dataframe thead th {\n",
       "        text-align: right;\n",
       "    }\n",
       "</style>\n",
       "<table border=\"1\" class=\"dataframe\">\n",
       "  <thead>\n",
       "    <tr style=\"text-align: right;\">\n",
       "      <th></th>\n",
       "      <th>asin</th>\n",
       "      <th>verified</th>\n",
       "      <th>reviewText</th>\n",
       "      <th>overall</th>\n",
       "      <th>summary</th>\n",
       "      <th>unixReviewTime</th>\n",
       "      <th>reviewerName</th>\n",
       "      <th>reviewTime</th>\n",
       "      <th>vote</th>\n",
       "      <th>image</th>\n",
       "    </tr>\n",
       "  </thead>\n",
       "  <tbody>\n",
       "    <tr>\n",
       "      <th>0</th>\n",
       "      <td>7391002801</td>\n",
       "      <td>True</td>\n",
       "      <td>Highly recommend!!!</td>\n",
       "      <td>5.0</td>\n",
       "      <td>Five Stars</td>\n",
       "      <td>1475884800</td>\n",
       "      <td>Michael Marone</td>\n",
       "      <td>2016-10-08</td>\n",
       "      <td>0.0</td>\n",
       "      <td>0</td>\n",
       "    </tr>\n",
       "    <tr>\n",
       "      <th>1</th>\n",
       "      <td>7391002801</td>\n",
       "      <td>True</td>\n",
       "      <td>great</td>\n",
       "      <td>5.0</td>\n",
       "      <td>Five Stars</td>\n",
       "      <td>1464566400</td>\n",
       "      <td>tim  jensen</td>\n",
       "      <td>2016-05-30</td>\n",
       "      <td>0.0</td>\n",
       "      <td>0</td>\n",
       "    </tr>\n",
       "    <tr>\n",
       "      <th>2</th>\n",
       "      <td>8288878881</td>\n",
       "      <td>True</td>\n",
       "      <td>Perfect from box to phone. Only original produ...</td>\n",
       "      <td>5.0</td>\n",
       "      <td>Five Stars</td>\n",
       "      <td>1478131200</td>\n",
       "      <td>Amazon Customer</td>\n",
       "      <td>2016-11-03</td>\n",
       "      <td>0.0</td>\n",
       "      <td>0</td>\n",
       "    </tr>\n",
       "    <tr>\n",
       "      <th>3</th>\n",
       "      <td>8288878881</td>\n",
       "      <td>True</td>\n",
       "      <td>I regret buying this charger. Yes, it was chea...</td>\n",
       "      <td>3.0</td>\n",
       "      <td>Get What You Pay For</td>\n",
       "      <td>1475280000</td>\n",
       "      <td>Trusted Reviewer</td>\n",
       "      <td>2016-10-01</td>\n",
       "      <td>0.0</td>\n",
       "      <td>0</td>\n",
       "    </tr>\n",
       "    <tr>\n",
       "      <th>4</th>\n",
       "      <td>8288878881</td>\n",
       "      <td>True</td>\n",
       "      <td>Best charger I've ever had... Love it!</td>\n",
       "      <td>5.0</td>\n",
       "      <td>Five Stars</td>\n",
       "      <td>1474243200</td>\n",
       "      <td>MOM-MOM</td>\n",
       "      <td>2016-09-19</td>\n",
       "      <td>0.0</td>\n",
       "      <td>0</td>\n",
       "    </tr>\n",
       "  </tbody>\n",
       "</table>\n",
       "</div>"
      ],
      "text/plain": [
       "         asin  verified                                         reviewText  \\\n",
       "0  7391002801      True                                Highly recommend!!!   \n",
       "1  7391002801      True                                              great   \n",
       "2  8288878881      True  Perfect from box to phone. Only original produ...   \n",
       "3  8288878881      True  I regret buying this charger. Yes, it was chea...   \n",
       "4  8288878881      True             Best charger I've ever had... Love it!   \n",
       "\n",
       "   overall               summary  unixReviewTime      reviewerName  \\\n",
       "0      5.0            Five Stars      1475884800    Michael Marone   \n",
       "1      5.0            Five Stars      1464566400       tim  jensen   \n",
       "2      5.0            Five Stars      1478131200   Amazon Customer   \n",
       "3      3.0  Get What You Pay For      1475280000  Trusted Reviewer   \n",
       "4      5.0            Five Stars      1474243200           MOM-MOM   \n",
       "\n",
       "   reviewTime  vote  image  \n",
       "0  2016-10-08   0.0      0  \n",
       "1  2016-05-30   0.0      0  \n",
       "2  2016-11-03   0.0      0  \n",
       "3  2016-10-01   0.0      0  \n",
       "4  2016-09-19   0.0      0  "
      ]
     },
     "execution_count": 13,
     "metadata": {},
     "output_type": "execute_result"
    }
   ],
   "source": [
    "df.head()"
   ]
  },
  {
   "cell_type": "code",
   "execution_count": 14,
   "metadata": {},
   "outputs": [
    {
     "data": {
      "text/plain": [
       "(2416095, 10)"
      ]
     },
     "execution_count": 14,
     "metadata": {},
     "output_type": "execute_result"
    }
   ],
   "source": [
    "df.shape"
   ]
  },
  {
   "cell_type": "code",
   "execution_count": 5,
   "metadata": {},
   "outputs": [],
   "source": [
    "# Drop the 'style' column for now\n",
    "#df.drop(['style'], axis=1, inplace=True)"
   ]
  },
  {
   "cell_type": "code",
   "execution_count": 6,
   "metadata": {},
   "outputs": [],
   "source": [
    "# Rename the original index\n",
    "df.rename(columns={df.columns[0]:'index'}, inplace=True)"
   ]
  },
  {
   "cell_type": "code",
   "execution_count": 7,
   "metadata": {},
   "outputs": [],
   "source": [
    "df.drop(['index'], axis=1, inplace=True)"
   ]
  },
  {
   "cell_type": "code",
   "execution_count": 8,
   "metadata": {},
   "outputs": [],
   "source": [
    "def numImg(x): \n",
    "    if (type(x) is str):\n",
    "        return x.count(',')\n",
    "    return 0"
   ]
  },
  {
   "cell_type": "code",
   "execution_count": 9,
   "metadata": {},
   "outputs": [],
   "source": [
    "df['image'] = df['image'].apply(numImg)"
   ]
  },
  {
   "cell_type": "code",
   "execution_count": 10,
   "metadata": {},
   "outputs": [],
   "source": [
    "def numVote(x):\n",
    "    if (type(x) is str):\n",
    "        return float(int(x.replace(',', '')))\n",
    "    if (math.isnan(x)):\n",
    "        return 0\n",
    "    return x"
   ]
  },
  {
   "cell_type": "code",
   "execution_count": 11,
   "metadata": {},
   "outputs": [],
   "source": [
    "df['vote'] = df['vote'].apply(numVote)"
   ]
  },
  {
   "cell_type": "code",
   "execution_count": 12,
   "metadata": {},
   "outputs": [],
   "source": [
    "df['reviewTime'] = df['reviewTime'].apply(lambda x: str(datetime.strptime(x, '%m %d, %Y').date()))"
   ]
  },
  {
   "cell_type": "code",
   "execution_count": 21,
   "metadata": {},
   "outputs": [
    {
     "data": {
      "text/html": [
       "<div>\n",
       "<style scoped>\n",
       "    .dataframe tbody tr th:only-of-type {\n",
       "        vertical-align: middle;\n",
       "    }\n",
       "\n",
       "    .dataframe tbody tr th {\n",
       "        vertical-align: top;\n",
       "    }\n",
       "\n",
       "    .dataframe thead th {\n",
       "        text-align: right;\n",
       "    }\n",
       "</style>\n",
       "<table border=\"1\" class=\"dataframe\">\n",
       "  <thead>\n",
       "    <tr style=\"text-align: right;\">\n",
       "      <th></th>\n",
       "      <th>asin</th>\n",
       "      <th>verified</th>\n",
       "      <th>reviewText</th>\n",
       "      <th>overall</th>\n",
       "      <th>summary</th>\n",
       "      <th>unixReviewTime</th>\n",
       "      <th>reviewerName</th>\n",
       "      <th>reviewTime</th>\n",
       "      <th>vote</th>\n",
       "      <th>image</th>\n",
       "    </tr>\n",
       "  </thead>\n",
       "  <tbody>\n",
       "    <tr>\n",
       "      <th>1858855</th>\n",
       "      <td>B004I8WD7S</td>\n",
       "      <td>True</td>\n",
       "      <td>Excellent</td>\n",
       "      <td>5.0</td>\n",
       "      <td>Five Stars</td>\n",
       "      <td>1482883200</td>\n",
       "      <td>Rocco Ferri</td>\n",
       "      <td>2016-12-28</td>\n",
       "      <td>0.0</td>\n",
       "      <td>0</td>\n",
       "    </tr>\n",
       "    <tr>\n",
       "      <th>1858856</th>\n",
       "      <td>B004I8WD7S</td>\n",
       "      <td>True</td>\n",
       "      <td>No brainer!!! very tight firt, and does its jo...</td>\n",
       "      <td>5.0</td>\n",
       "      <td>Five Stars</td>\n",
       "      <td>1481414400</td>\n",
       "      <td>BCS76</td>\n",
       "      <td>2016-12-11</td>\n",
       "      <td>0.0</td>\n",
       "      <td>0</td>\n",
       "    </tr>\n",
       "  </tbody>\n",
       "</table>\n",
       "</div>"
      ],
      "text/plain": [
       "               asin  verified  \\\n",
       "1858855  B004I8WD7S      True   \n",
       "1858856  B004I8WD7S      True   \n",
       "\n",
       "                                                reviewText  overall  \\\n",
       "1858855                                          Excellent      5.0   \n",
       "1858856  No brainer!!! very tight firt, and does its jo...      5.0   \n",
       "\n",
       "            summary  unixReviewTime reviewerName  reviewTime  vote  image  \n",
       "1858855  Five Stars      1482883200  Rocco Ferri  2016-12-28   0.0      0  \n",
       "1858856  Five Stars      1481414400        BCS76  2016-12-11   0.0      0  "
      ]
     },
     "execution_count": 21,
     "metadata": {},
     "output_type": "execute_result"
    }
   ],
   "source": [
    "##### Check Amazon products' reviews #####\n",
    "df.loc[df['asin'] == 'B004I8WD7S']"
   ]
  },
  {
   "cell_type": "code",
   "execution_count": 17,
   "metadata": {},
   "outputs": [],
   "source": [
    "asin = pd.read_csv('df_amazon.csv')"
   ]
  },
  {
   "cell_type": "code",
   "execution_count": 18,
   "metadata": {},
   "outputs": [
    {
     "data": {
      "text/html": [
       "<div>\n",
       "<style scoped>\n",
       "    .dataframe tbody tr th:only-of-type {\n",
       "        vertical-align: middle;\n",
       "    }\n",
       "\n",
       "    .dataframe tbody tr th {\n",
       "        vertical-align: top;\n",
       "    }\n",
       "\n",
       "    .dataframe thead th {\n",
       "        text-align: right;\n",
       "    }\n",
       "</style>\n",
       "<table border=\"1\" class=\"dataframe\">\n",
       "  <thead>\n",
       "    <tr style=\"text-align: right;\">\n",
       "      <th></th>\n",
       "      <th>Unnamed: 0</th>\n",
       "      <th>category</th>\n",
       "      <th>description</th>\n",
       "      <th>title</th>\n",
       "      <th>brand</th>\n",
       "      <th>rank</th>\n",
       "      <th>main_cat</th>\n",
       "      <th>asin</th>\n",
       "      <th>price</th>\n",
       "    </tr>\n",
       "  </thead>\n",
       "  <tbody>\n",
       "    <tr>\n",
       "      <th>0</th>\n",
       "      <td>17656</td>\n",
       "      <td>['Cell Phones &amp; Accessories', 'Accessories']</td>\n",
       "      <td>['Compatible with AT&amp;T Samsung Impression SGH-...</td>\n",
       "      <td>Black Rubberized Case Cover Protective SNAP-ON...</td>\n",
       "      <td>Amazon</td>\n",
       "      <td>&gt;#846,145 in Cell Phones &amp; Accessories (See To...</td>\n",
       "      <td>Cell Phones &amp; Accessories</td>\n",
       "      <td>B00286WYOY</td>\n",
       "      <td>NaN</td>\n",
       "    </tr>\n",
       "    <tr>\n",
       "      <th>1</th>\n",
       "      <td>22970</td>\n",
       "      <td>['Cell Phones &amp; Accessories', 'Cases, Holsters...</td>\n",
       "      <td>['AmazonBasics products are quality electronic...</td>\n",
       "      <td>AmazonBasics Leather Case with Swivel Clip for...</td>\n",
       "      <td>AmazonBasics</td>\n",
       "      <td>&gt;#1,673,452 in Cell Phones &amp; Accessories (See ...</td>\n",
       "      <td>Cell Phones &amp; Accessories</td>\n",
       "      <td>B002VPE1NY</td>\n",
       "      <td>NaN</td>\n",
       "    </tr>\n",
       "    <tr>\n",
       "      <th>2</th>\n",
       "      <td>40694</td>\n",
       "      <td>['Cell Phones &amp; Accessories', 'Cases, Holsters...</td>\n",
       "      <td>['Translucent TPU Case with Circle pattern for...</td>\n",
       "      <td>AmazonBasics Protective TPU Case, Clear</td>\n",
       "      <td>AmazonBasics</td>\n",
       "      <td>&gt;#299,915 in Cell Phones &amp; Accessories (See To...</td>\n",
       "      <td>Cell Phones &amp; Accessories</td>\n",
       "      <td>B004I8WD6E</td>\n",
       "      <td>NaN</td>\n",
       "    </tr>\n",
       "    <tr>\n",
       "      <th>3</th>\n",
       "      <td>40697</td>\n",
       "      <td>['Cell Phones &amp; Accessories', 'Accessories', '...</td>\n",
       "      <td>['The AmazonBasics Protective Case is made of ...</td>\n",
       "      <td>AmazonBasics Protective TPU Case with Screen P...</td>\n",
       "      <td>AmazonBasics</td>\n",
       "      <td>&gt;#226,426 in Cell Phones &amp; Accessories (See To...</td>\n",
       "      <td>Cell Phones &amp; Accessories</td>\n",
       "      <td>B004I8WD7S</td>\n",
       "      <td>$9.75</td>\n",
       "    </tr>\n",
       "    <tr>\n",
       "      <th>4</th>\n",
       "      <td>48966</td>\n",
       "      <td>['Cell Phones &amp; Accessories', 'Cases, Holsters...</td>\n",
       "      <td>['AmazonBasics products are quality electronic...</td>\n",
       "      <td>AmazonBasics Leather Case with Removable Belt ...</td>\n",
       "      <td>AmazonBasics</td>\n",
       "      <td>&gt;#544,722 in Cell Phones &amp; Accessories (See To...</td>\n",
       "      <td>Cell Phones &amp; Accessories</td>\n",
       "      <td>B004Z788JO</td>\n",
       "      <td>NaN</td>\n",
       "    </tr>\n",
       "  </tbody>\n",
       "</table>\n",
       "</div>"
      ],
      "text/plain": [
       "   Unnamed: 0                                           category  \\\n",
       "0       17656       ['Cell Phones & Accessories', 'Accessories']   \n",
       "1       22970  ['Cell Phones & Accessories', 'Cases, Holsters...   \n",
       "2       40694  ['Cell Phones & Accessories', 'Cases, Holsters...   \n",
       "3       40697  ['Cell Phones & Accessories', 'Accessories', '...   \n",
       "4       48966  ['Cell Phones & Accessories', 'Cases, Holsters...   \n",
       "\n",
       "                                         description  \\\n",
       "0  ['Compatible with AT&T Samsung Impression SGH-...   \n",
       "1  ['AmazonBasics products are quality electronic...   \n",
       "2  ['Translucent TPU Case with Circle pattern for...   \n",
       "3  ['The AmazonBasics Protective Case is made of ...   \n",
       "4  ['AmazonBasics products are quality electronic...   \n",
       "\n",
       "                                               title         brand  \\\n",
       "0  Black Rubberized Case Cover Protective SNAP-ON...        Amazon   \n",
       "1  AmazonBasics Leather Case with Swivel Clip for...  AmazonBasics   \n",
       "2            AmazonBasics Protective TPU Case, Clear  AmazonBasics   \n",
       "3  AmazonBasics Protective TPU Case with Screen P...  AmazonBasics   \n",
       "4  AmazonBasics Leather Case with Removable Belt ...  AmazonBasics   \n",
       "\n",
       "                                                rank  \\\n",
       "0  >#846,145 in Cell Phones & Accessories (See To...   \n",
       "1  >#1,673,452 in Cell Phones & Accessories (See ...   \n",
       "2  >#299,915 in Cell Phones & Accessories (See To...   \n",
       "3  >#226,426 in Cell Phones & Accessories (See To...   \n",
       "4  >#544,722 in Cell Phones & Accessories (See To...   \n",
       "\n",
       "                    main_cat        asin   price  \n",
       "0  Cell Phones & Accessories  B00286WYOY     NaN  \n",
       "1  Cell Phones & Accessories  B002VPE1NY     NaN  \n",
       "2  Cell Phones & Accessories  B004I8WD6E     NaN  \n",
       "3  Cell Phones & Accessories  B004I8WD7S  $9.75   \n",
       "4  Cell Phones & Accessories  B004Z788JO     NaN  "
      ]
     },
     "execution_count": 18,
     "metadata": {},
     "output_type": "execute_result"
    }
   ],
   "source": [
    "asin.head()"
   ]
  },
  {
   "cell_type": "code",
   "execution_count": 19,
   "metadata": {},
   "outputs": [],
   "source": [
    "# Drop the 'style' column for now\n",
    "asin.drop(asin.columns[0], axis=1, inplace=True)"
   ]
  },
  {
   "cell_type": "code",
   "execution_count": 20,
   "metadata": {},
   "outputs": [
    {
     "data": {
      "text/plain": [
       "47"
      ]
     },
     "execution_count": 20,
     "metadata": {},
     "output_type": "execute_result"
    }
   ],
   "source": [
    "len(set(list(asin['asin'])))"
   ]
  },
  {
   "cell_type": "code",
   "execution_count": 25,
   "metadata": {},
   "outputs": [],
   "source": [
    "df_merged = pd.merge(df, asin, on='asin')"
   ]
  },
  {
   "cell_type": "code",
   "execution_count": 26,
   "metadata": {},
   "outputs": [
    {
     "data": {
      "text/plain": [
       "26"
      ]
     },
     "execution_count": 26,
     "metadata": {},
     "output_type": "execute_result"
    }
   ],
   "source": [
    "len(set(list(df_merged['asin'])))"
   ]
  },
  {
   "cell_type": "code",
   "execution_count": 27,
   "metadata": {},
   "outputs": [
    {
     "data": {
      "text/html": [
       "<div>\n",
       "<style scoped>\n",
       "    .dataframe tbody tr th:only-of-type {\n",
       "        vertical-align: middle;\n",
       "    }\n",
       "\n",
       "    .dataframe tbody tr th {\n",
       "        vertical-align: top;\n",
       "    }\n",
       "\n",
       "    .dataframe thead th {\n",
       "        text-align: right;\n",
       "    }\n",
       "</style>\n",
       "<table border=\"1\" class=\"dataframe\">\n",
       "  <thead>\n",
       "    <tr style=\"text-align: right;\">\n",
       "      <th></th>\n",
       "      <th>asin</th>\n",
       "      <th>verified</th>\n",
       "      <th>reviewText</th>\n",
       "      <th>overall</th>\n",
       "      <th>summary</th>\n",
       "      <th>unixReviewTime</th>\n",
       "      <th>reviewerName</th>\n",
       "      <th>reviewTime</th>\n",
       "      <th>vote</th>\n",
       "      <th>image</th>\n",
       "      <th>category</th>\n",
       "      <th>description</th>\n",
       "      <th>title</th>\n",
       "      <th>brand</th>\n",
       "      <th>rank</th>\n",
       "      <th>main_cat</th>\n",
       "      <th>price</th>\n",
       "    </tr>\n",
       "  </thead>\n",
       "  <tbody>\n",
       "    <tr>\n",
       "      <th>0</th>\n",
       "      <td>B00511PS3C</td>\n",
       "      <td>True</td>\n",
       "      <td>broke within 2 weeks</td>\n",
       "      <td>1.0</td>\n",
       "      <td>One Star</td>\n",
       "      <td>1489968000</td>\n",
       "      <td>vanessa Harvey</td>\n",
       "      <td>2017-03-20</td>\n",
       "      <td>0.0</td>\n",
       "      <td>0</td>\n",
       "      <td>['Cell Phones &amp; Accessories', 'Accessories', '...</td>\n",
       "      <td>['Power two 5V accessories at the same time. F...</td>\n",
       "      <td>AmazonBasics 2-Port USB Car Charger with 2.1 A...</td>\n",
       "      <td>AmazonBasics</td>\n",
       "      <td>&gt;#135,565 in Cell Phones &amp; Accessories (See To...</td>\n",
       "      <td>Cell Phones &amp; Accessories</td>\n",
       "      <td>NaN</td>\n",
       "    </tr>\n",
       "    <tr>\n",
       "      <th>1</th>\n",
       "      <td>B00511PS3C</td>\n",
       "      <td>True</td>\n",
       "      <td>awesome I have two Power sights in front on my...</td>\n",
       "      <td>5.0</td>\n",
       "      <td>awesome I have two Power sights in front on my...</td>\n",
       "      <td>1487721600</td>\n",
       "      <td>Hillbilly Dreamer</td>\n",
       "      <td>2017-02-22</td>\n",
       "      <td>0.0</td>\n",
       "      <td>0</td>\n",
       "      <td>['Cell Phones &amp; Accessories', 'Accessories', '...</td>\n",
       "      <td>['Power two 5V accessories at the same time. F...</td>\n",
       "      <td>AmazonBasics 2-Port USB Car Charger with 2.1 A...</td>\n",
       "      <td>AmazonBasics</td>\n",
       "      <td>&gt;#135,565 in Cell Phones &amp; Accessories (See To...</td>\n",
       "      <td>Cell Phones &amp; Accessories</td>\n",
       "      <td>NaN</td>\n",
       "    </tr>\n",
       "    <tr>\n",
       "      <th>2</th>\n",
       "      <td>B00511PS3C</td>\n",
       "      <td>True</td>\n",
       "      <td>What else is there really to know? It works</td>\n",
       "      <td>5.0</td>\n",
       "      <td>It works</td>\n",
       "      <td>1486339200</td>\n",
       "      <td>Nick</td>\n",
       "      <td>2017-02-06</td>\n",
       "      <td>0.0</td>\n",
       "      <td>0</td>\n",
       "      <td>['Cell Phones &amp; Accessories', 'Accessories', '...</td>\n",
       "      <td>['Power two 5V accessories at the same time. F...</td>\n",
       "      <td>AmazonBasics 2-Port USB Car Charger with 2.1 A...</td>\n",
       "      <td>AmazonBasics</td>\n",
       "      <td>&gt;#135,565 in Cell Phones &amp; Accessories (See To...</td>\n",
       "      <td>Cell Phones &amp; Accessories</td>\n",
       "      <td>NaN</td>\n",
       "    </tr>\n",
       "    <tr>\n",
       "      <th>3</th>\n",
       "      <td>B00511PS3C</td>\n",
       "      <td>True</td>\n",
       "      <td>Love amazon basic products, this is currently ...</td>\n",
       "      <td>4.0</td>\n",
       "      <td>Love amazon basic products</td>\n",
       "      <td>1486166400</td>\n",
       "      <td>wakari</td>\n",
       "      <td>2017-02-04</td>\n",
       "      <td>0.0</td>\n",
       "      <td>0</td>\n",
       "      <td>['Cell Phones &amp; Accessories', 'Accessories', '...</td>\n",
       "      <td>['Power two 5V accessories at the same time. F...</td>\n",
       "      <td>AmazonBasics 2-Port USB Car Charger with 2.1 A...</td>\n",
       "      <td>AmazonBasics</td>\n",
       "      <td>&gt;#135,565 in Cell Phones &amp; Accessories (See To...</td>\n",
       "      <td>Cell Phones &amp; Accessories</td>\n",
       "      <td>NaN</td>\n",
       "    </tr>\n",
       "    <tr>\n",
       "      <th>4</th>\n",
       "      <td>B00511PS3C</td>\n",
       "      <td>True</td>\n",
       "      <td>Love this.  It is great. It works great.</td>\n",
       "      <td>5.0</td>\n",
       "      <td>Great!!!</td>\n",
       "      <td>1485216000</td>\n",
       "      <td>Amazon Customer</td>\n",
       "      <td>2017-01-24</td>\n",
       "      <td>0.0</td>\n",
       "      <td>0</td>\n",
       "      <td>['Cell Phones &amp; Accessories', 'Accessories', '...</td>\n",
       "      <td>['Power two 5V accessories at the same time. F...</td>\n",
       "      <td>AmazonBasics 2-Port USB Car Charger with 2.1 A...</td>\n",
       "      <td>AmazonBasics</td>\n",
       "      <td>&gt;#135,565 in Cell Phones &amp; Accessories (See To...</td>\n",
       "      <td>Cell Phones &amp; Accessories</td>\n",
       "      <td>NaN</td>\n",
       "    </tr>\n",
       "  </tbody>\n",
       "</table>\n",
       "</div>"
      ],
      "text/plain": [
       "         asin  verified                                         reviewText  \\\n",
       "0  B00511PS3C      True                               broke within 2 weeks   \n",
       "1  B00511PS3C      True  awesome I have two Power sights in front on my...   \n",
       "2  B00511PS3C      True        What else is there really to know? It works   \n",
       "3  B00511PS3C      True  Love amazon basic products, this is currently ...   \n",
       "4  B00511PS3C      True           Love this.  It is great. It works great.   \n",
       "\n",
       "   overall                                            summary  unixReviewTime  \\\n",
       "0      1.0                                           One Star      1489968000   \n",
       "1      5.0  awesome I have two Power sights in front on my...      1487721600   \n",
       "2      5.0                                           It works      1486339200   \n",
       "3      4.0                         Love amazon basic products      1486166400   \n",
       "4      5.0                                           Great!!!      1485216000   \n",
       "\n",
       "        reviewerName  reviewTime  vote  image  \\\n",
       "0     vanessa Harvey  2017-03-20   0.0      0   \n",
       "1  Hillbilly Dreamer  2017-02-22   0.0      0   \n",
       "2               Nick  2017-02-06   0.0      0   \n",
       "3             wakari  2017-02-04   0.0      0   \n",
       "4    Amazon Customer  2017-01-24   0.0      0   \n",
       "\n",
       "                                            category  \\\n",
       "0  ['Cell Phones & Accessories', 'Accessories', '...   \n",
       "1  ['Cell Phones & Accessories', 'Accessories', '...   \n",
       "2  ['Cell Phones & Accessories', 'Accessories', '...   \n",
       "3  ['Cell Phones & Accessories', 'Accessories', '...   \n",
       "4  ['Cell Phones & Accessories', 'Accessories', '...   \n",
       "\n",
       "                                         description  \\\n",
       "0  ['Power two 5V accessories at the same time. F...   \n",
       "1  ['Power two 5V accessories at the same time. F...   \n",
       "2  ['Power two 5V accessories at the same time. F...   \n",
       "3  ['Power two 5V accessories at the same time. F...   \n",
       "4  ['Power two 5V accessories at the same time. F...   \n",
       "\n",
       "                                               title         brand  \\\n",
       "0  AmazonBasics 2-Port USB Car Charger with 2.1 A...  AmazonBasics   \n",
       "1  AmazonBasics 2-Port USB Car Charger with 2.1 A...  AmazonBasics   \n",
       "2  AmazonBasics 2-Port USB Car Charger with 2.1 A...  AmazonBasics   \n",
       "3  AmazonBasics 2-Port USB Car Charger with 2.1 A...  AmazonBasics   \n",
       "4  AmazonBasics 2-Port USB Car Charger with 2.1 A...  AmazonBasics   \n",
       "\n",
       "                                                rank  \\\n",
       "0  >#135,565 in Cell Phones & Accessories (See To...   \n",
       "1  >#135,565 in Cell Phones & Accessories (See To...   \n",
       "2  >#135,565 in Cell Phones & Accessories (See To...   \n",
       "3  >#135,565 in Cell Phones & Accessories (See To...   \n",
       "4  >#135,565 in Cell Phones & Accessories (See To...   \n",
       "\n",
       "                    main_cat price  \n",
       "0  Cell Phones & Accessories   NaN  \n",
       "1  Cell Phones & Accessories   NaN  \n",
       "2  Cell Phones & Accessories   NaN  \n",
       "3  Cell Phones & Accessories   NaN  \n",
       "4  Cell Phones & Accessories   NaN  "
      ]
     },
     "execution_count": 27,
     "metadata": {},
     "output_type": "execute_result"
    }
   ],
   "source": [
    "df_merged.head()"
   ]
  },
  {
   "cell_type": "code",
   "execution_count": 29,
   "metadata": {},
   "outputs": [
    {
     "data": {
      "text/plain": [
       "(1685, 17)"
      ]
     },
     "execution_count": 29,
     "metadata": {},
     "output_type": "execute_result"
    }
   ],
   "source": [
    "df_merged.shape"
   ]
  },
  {
   "cell_type": "code",
   "execution_count": 44,
   "metadata": {},
   "outputs": [],
   "source": [
    "# Count the frequency of each subcategory in the list\n",
    "asin_count = list(df_merged['title'])\n",
    "counter_asin = collections.Counter(asin_count) # dict ordered by freq\n",
    "counter_asin = {k: v for k, v in counter_asin.items() if v > 10} # Drop products with less than 10 reviews\n",
    "counter_asin = {k: v for k, v in sorted(counter_asin.items(), key=lambda item: item[1])}"
   ]
  },
  {
   "cell_type": "code",
   "execution_count": 45,
   "metadata": {},
   "outputs": [
    {
     "data": {
      "text/plain": [
       "Text(0,0.5,'Product title')"
      ]
     },
     "execution_count": 45,
     "metadata": {},
     "output_type": "execute_result"
    },
    {
     "data": {
      "image/png": "[encoded data removed]",
      "text/plain": [
       "<Figure size 432x288 with 1 Axes>"
      ]
     },
     "metadata": {},
     "output_type": "display_data"
    }
   ],
   "source": [
    "# Plot title vs. number of reviews\n",
    "plt.barh(list(counter_asin.keys()), list(counter_asin.values()))\n",
    "plt.xlabel(\"Number of reviews\")\n",
    "plt.ylabel(\"Product title\")"
   ]
  },
  {
   "cell_type": "code",
   "execution_count": 81,
   "metadata": {},
   "outputs": [],
   "source": [
    "df_merged['rank'] = df_merged['rank'].apply(lambda x: int(x))"
   ]
  },
  {
   "cell_type": "code",
   "execution_count": 84,
   "metadata": {},
   "outputs": [],
   "source": [
    "df_merged.to_csv('reviews_merged.csv')"
   ]
  },
  {
   "cell_type": "code",
   "execution_count": null,
   "metadata": {},
   "outputs": [],
   "source": []
  }
 ],
 "metadata": {
  "kernelspec": {
   "display_name": "Python 3",
   "language": "python",
   "name": "python3"
  },
  "language_info": {
   "codemirror_mode": {
    "name": "ipython",
    "version": 3
   },
   "file_extension": ".py",
   "mimetype": "text/x-python",
   "name": "python",
   "nbconvert_exporter": "python",
   "pygments_lexer": "ipython3",
   "version": "3.6.5"
  }
 },
 "nbformat": 4,
 "nbformat_minor": 2
}
